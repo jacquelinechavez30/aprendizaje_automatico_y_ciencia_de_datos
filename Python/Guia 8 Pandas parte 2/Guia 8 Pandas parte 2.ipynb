{
 "cells": [
  {
   "cell_type": "code",
   "execution_count": 1,
   "id": "951364cd",
   "metadata": {},
   "outputs": [
    {
     "name": "stdout",
     "output_type": "stream",
     "text": [
      "   Departamento  anio  valor\n",
      "0  San Salvador  2000    1.5\n",
      "1  San Salvador  2001    1.7\n",
      "2  San Salvador  2002    3.6\n",
      "3   La Libertad  2001    2.4\n",
      "4   La Libertad  2002    2.9\n",
      "5   La Libertad  2003    3.2\n",
      "   anio  valor  Departamento\n",
      "0  2000    1.5  San Salvador\n",
      "1  2001    1.7  San Salvador\n",
      "2  2002    3.6  San Salvador\n",
      "3  2001    2.4   La Libertad\n",
      "4  2002    2.9   La Libertad\n",
      "5  2003    3.2   La Libertad\n"
     ]
    }
   ],
   "source": [
    "#Fundamentos de Pandas (Continuación)\n",
    "#3Modificar orden de las columnas de un Dataframe\n",
    "#El siguiente ejemplo muestra como modificar el orden de las columnas de un Dataframe\n",
    "\n",
    "import pandas as pd\n",
    "\n",
    "\n",
    "datos1 = {\n",
    "    \"Departamento\": [\"San Salvador\", \"San Salvador\", \"San Salvador\", \"La Libertad\", \"La Libertad\", \"La Libertad\"],\n",
    "    \"anio\": [2000, 2001, 2002, 2001, 2002, 2003],\n",
    "    \"valor\": [1.5, 1.7, 3.6, 2.4, 2.9, 3.2]\n",
    "}\n",
    "frame = pd.DataFrame(datos1)\n",
    "print(frame)\n",
    "\n",
    "datos2 = pd.DataFrame(datos1, columns=[\"anio\", \"valor\", \"Departamento\"])\n",
    "print(datos2)\n",
    "\n",
    "\n",
    "\n",
    "\n",
    "\n"
   ]
  },
  {
   "cell_type": "code",
   "execution_count": 2,
   "id": "29ddf554",
   "metadata": {},
   "outputs": [
    {
     "name": "stdout",
     "output_type": "stream",
     "text": [
      "   Departamento  anio  valor\n",
      "0  San Salvador  2000    1.5\n",
      "1  San Salvador  2001    1.7\n",
      "2  San Salvador  2002    3.0\n",
      "3   La Libertad  2001    2.4\n",
      "4   La Libertad  2002    2.9\n",
      "5   La Libertad  2003    3.2\n",
      "   anio  valor  Departamento Habitantes\n",
      "0  2000    1.5  San Salvador        NaN\n",
      "1  2001    1.7  San Salvador        NaN\n",
      "2  2002    3.0  San Salvador        NaN\n",
      "3  2001    2.4   La Libertad        NaN\n",
      "4  2002    2.9   La Libertad        NaN\n",
      "5  2003    3.2   La Libertad        NaN\n"
     ]
    }
   ],
   "source": [
    "#Modificar orden de las columnas de un Dataframe\n",
    "#El siguiente ejemplo muestra como modificar el orden de las columnas de un Dataframe, y\n",
    "#que sucede si se agrega una columna adicional.\n",
    "import pandas as pd\n",
    "\n",
    "datos1 = {\n",
    "    \"Departamento\": [\"San Salvador\", \"San Salvador\", \"San Salvador\", \"La Libertad\", \"La Libertad\", \"La Libertad\"],\n",
    "    \"anio\": [2000, 2001, 2002, 2001, 2002, 2003],\n",
    "    \"valor\": [1.5, 1.7, 3.0, 2.4, 2.9, 3.2]\n",
    "}\n",
    "frame = pd.DataFrame(datos1)\n",
    "print(frame)\n",
    "\n",
    "datos2 = pd.DataFrame(datos1, columns=[\"anio\", \"valor\", \"Departamento\", \"Habitantes\"])\n",
    "print(datos2)"
   ]
  },
  {
   "cell_type": "code",
   "execution_count": 3,
   "id": "1424b037",
   "metadata": {},
   "outputs": [
    {
     "name": "stdout",
     "output_type": "stream",
     "text": [
      "0    San Salvador\n",
      "1    San Salvador\n",
      "2    San Salvador\n",
      "3     La Libertad\n",
      "4     La Libertad\n",
      "5     La Libertad\n",
      "Name: Departamento, dtype: object\n",
      "0    San Salvador\n",
      "1    San Salvador\n",
      "2    San Salvador\n",
      "3     La Libertad\n",
      "4     La Libertad\n",
      "5     La Libertad\n",
      "Name: Departamento, dtype: object\n"
     ]
    }
   ],
   "source": [
    "#Obtener el contenido de una columna de un Dataframe\n",
    "#siguiente ejemplo muestra dos formas de obtener el contenido de una columna de unDataframe.\n",
    "\n",
    "import pandas as pd\n",
    "\n",
    "datos1 = {\n",
    "    \"Departamento\": [\"San Salvador\", \"San Salvador\", \"San Salvador\", \"La Libertad\", \"La Libertad\", \"La Libertad\"],\n",
    "    \"anio\": [2000, 2001, 2002, 2001, 2002, 2003],\n",
    "    \"valor\": [1.5, 1.7, 3.6, 2.4, 2.9, 3.2]\n",
    "}\n",
    "frame = pd.DataFrame(datos1)\n",
    "datos2 = pd.DataFrame(datos1, columns=[\"anio\", \"valor\", \"Departamento\", \"Habitantes\"])\n",
    "\n",
    "print(datos2[\"Departamento\"])\n",
    "print(datos2.Departamento)\n"
   ]
  },
  {
   "cell_type": "code",
   "execution_count": null,
   "id": "e6704933",
   "metadata": {},
   "outputs": [
    {
     "name": "stdout",
     "output_type": "stream",
     "text": [
      "0    9.5\n",
      "1    9.5\n",
      "2    9.5\n",
      "3    9.5\n",
      "4    9.5\n",
      "5    9.5\n",
      "Name: valor, dtype: float64\n",
      "0    0.0\n",
      "1    1.0\n",
      "2    2.0\n",
      "3    3.0\n",
      "4    4.0\n",
      "5    5.0\n",
      "Name: valor, dtype: float64\n"
     ]
    }
   ],
   "source": [
    "#4. Modificar el contenido de una columna\n",
    "#Este ejemplo muestra cómo cambiar los valores dentro de una columna de un DataFrame. Primero, el código asigna el valor \n",
    "\n",
    "#9.5 a toda la columna \"valor\". Luego, reemplaza esos valores con una nueva secuencia de números generada por \n",
    "\n",
    "#np.arange(6.0).\n",
    "import pandas as pd\n",
    "import numpy as np\n",
    "\n",
    "datos1 = {\n",
    "    \"Departamento\": [\"San Salvador\", \"San Salvador\", \"San Salvador\", \"La Libertad\", \"La Libertad\", \"La Libertad\"],\n",
    "    \"anio\": [2000, 2001, 2002, 2001, 2002, 2003],\n",
    "    \"valor\": [1.5, 1.7, 3.6, 2.4, 2.9, 3.2]\n",
    "}\n",
    "frame = pd.DataFrame(datos1)\n",
    "datos2 = pd.DataFrame(datos1, columns=[\"anio\", \"valor\", \"Departamento\", \"Habitantes\"])\n",
    "\n",
    "datos2[\"valor\"] = 9.5\n",
    "print(datos2[\"valor\"])\n",
    "\n",
    "datos2[\"valor\"] = np.arange(6.0)\n",
    "print(datos2.valor)\n"
   ]
  },
  {
   "cell_type": "code",
   "execution_count": 2,
   "id": "6c1aa644",
   "metadata": {},
   "outputs": [
    {
     "name": "stdout",
     "output_type": "stream",
     "text": [
      "   anio  valor  Departamento Habitantes\n",
      "0  2000    0.0  Chalatenango        NaN\n",
      "1  2001    1.0  San Salvador        NaN\n",
      "2  2002    2.0    San Miguel        NaN\n",
      "3  2001    3.0     Sonsonate        NaN\n",
      "4  2002    4.0  San Salvador        NaN\n",
      "5  2003    5.0        La Paz        NaN\n",
      "   anio  valor  Departamento Habitantes  Capital\n",
      "0  2000    0.0  Chalatenango        NaN    False\n",
      "1  2001    1.0  San Salvador        NaN     True\n",
      "2  2002    2.0    San Miguel        NaN    False\n",
      "3  2001    3.0     Sonsonate        NaN    False\n",
      "4  2002    4.0  San Salvador        NaN     True\n",
      "5  2003    5.0        La Paz        NaN    False\n"
     ]
    }
   ],
   "source": [
    "#Agregar columna en un Dataframe\n",
    "#El siguiente ejemplo muestra otro método para agregar columna a un DataFrame.\n",
    "#Este ejemplo ilustra otra forma de agregar una columna a un DataFrame y cómo #agregar una columna basada en una condición. El código crea una nueva columna #booleana llamada \"Capital\" , que es \n",
    "#True si el \"Departamento\" es \"San Salvador\" y False en los demás casos.\n",
    "import pandas as pd\n",
    "import numpy as np\n",
    "\n",
    "datos1 = {\n",
    "    \"Departamento\": [\"Chalatenango\", \"San Salvador\", \"San Miguel\", \"Sonsonate\", \"San Salvador\", \"La Paz\"],\n",
    "    \"anio\": [2000, 2001, 2002, 2001, 2002, 2003],\n",
    "    \"valor\": [1.5, 1.7, 3.6, 2.4, 2.9, 3.2]\n",
    "}\n",
    "frame = pd.DataFrame(datos1)\n",
    "datos2 = pd.DataFrame(datos1, columns=[\"anio\", \"valor\", \"Departamento\", \"Habitantes\"])\n",
    "\n",
    "datos2[\"valor\"] = 9.5\n",
    "datos2[\"valor\"] = np.arange(6.0)\n",
    "print(datos2)\n",
    "\n",
    "datos2[\"Capital\"] = datos2[\"Departamento\"] == \"San Salvador\"\n",
    "print(datos2)"
   ]
  },
  {
   "cell_type": "code",
   "execution_count": 3,
   "id": "afeb80de",
   "metadata": {},
   "outputs": [
    {
     "name": "stdout",
     "output_type": "stream",
     "text": [
      "   anio  valor  Departamento Habitantes  Capital\n",
      "0  2000    1.5  Chalatenango        NaN    False\n",
      "1  2001    1.7  San Salvador        NaN     True\n",
      "2  2002    3.6    San Miguel        NaN    False\n",
      "3  2001    2.4     Sonsonate        NaN    False\n",
      "4  2002    2.9  San Salvador        NaN     True\n",
      "5  2003    3.2        La Paz        NaN    False\n",
      "   anio  valor  Departamento Habitantes\n",
      "0  2000    1.5  Chalatenango        NaN\n",
      "1  2001    1.7  San Salvador        NaN\n",
      "2  2002    3.6    San Miguel        NaN\n",
      "3  2001    2.4     Sonsonate        NaN\n",
      "4  2002    2.9  San Salvador        NaN\n",
      "5  2003    3.2        La Paz        NaN\n"
     ]
    }
   ],
   "source": [
    "#Borrar columna en un Dataframe\n",
    "# Este ejemplo muestra cómo eliminar una columna de un DataFrame.\n",
    "# El código utiliza la instrucción `del` para remover la columna \"Capital\".\n",
    "import pandas as pd\n",
    "\n",
    "datos1 = {\n",
    "    \"Departamento\": [\"Chalatenango\", \"San Salvador\", \"San Miguel\", \"Sonsonate\", \"San Salvador\", \"La Paz\"],\n",
    "    \"anio\": [2000, 2001, 2002, 2001, 2002, 2003],\n",
    "    \"valor\": [1.5, 1.7, 3.6, 2.4, 2.9, 3.2]\n",
    "}\n",
    "datos2 = pd.DataFrame(datos1, columns=[\"anio\", \"valor\", \"Departamento\", \"Habitantes\"])\n",
    "datos2[\"Capital\"] = datos2[\"Departamento\"] == \"San Salvador\"\n",
    "\n",
    "print(datos2)\n",
    "del datos2[\"Capital\"]\n",
    "print(datos2)"
   ]
  },
  {
   "cell_type": "code",
   "execution_count": 4,
   "id": "05a8803e",
   "metadata": {},
   "outputs": [
    {
     "name": "stdout",
     "output_type": "stream",
     "text": [
      "      La Paz  San Salvador\n",
      "2000     1.5           NaN\n",
      "2001     1.7           2.4\n",
      "2002     3.6           2.9\n"
     ]
    }
   ],
   "source": [
    "#Diccionarios anidados con DataFrame\n",
    "# Crea un DataFrame a partir de diccionarios anidados\n",
    "# Este ejemplo demuestra cómo Pandas interpreta un diccionario anidado para crear un DataFrame.\n",
    "import pandas as pd # Importa la librería pandas con el alias pd\n",
    "import numpy as np # Importa la librería numpy con el alias np\n",
    "\n",
    "# Crea un diccionario anidado.\n",
    "# Las claves externas (\"La Paz\", \"San Salvador\") serán las columnas.\n",
    "# Las claves internas (\"2000\", \"2001\", \"2002\") se convertirán en los índices de fila.\n",
    "poblacion = {\n",
    "    \"La Paz\": {2000: 1.5, 2001: 1.7, 2002: 3.6},\n",
    "    \"San Salvador\": {2000: np.nan, 2001: 2.4, 2002: 2.9}\n",
    "}\n",
    "# Crea el DataFrame a partir del diccionario anidado.\n",
    "datos1 = pd.DataFrame(poblacion)\n",
    "print(datos1) # Imprime el DataFrame resultante."
   ]
  },
  {
   "cell_type": "code",
   "execution_count": 5,
   "id": "040d6a91",
   "metadata": {},
   "outputs": [
    {
     "name": "stdout",
     "output_type": "stream",
     "text": [
      "estado  La Paz  San Salvador\n",
      "anio                        \n",
      "2000       1.5           NaN\n",
      "2001       1.7           2.4\n",
      "2002       3.6           2.9\n"
     ]
    }
   ],
   "source": [
    "#8. Atributos name para columnas e índices de un DataFrame\n",
    "# Asigna nombres a los índices y columnas de un DataFrame\n",
    "# Este ejemplo muestra cómo asignar nombres al índice y a las columnas de un DataFrame.\n",
    "import pandas as pd # Importa la librería pandas con el alias pd\n",
    "import numpy as np # Importa la librería numpy con el alias np\n",
    "\n",
    "# Crea un diccionario anidado.\n",
    "poblacion = {\n",
    "    \"La Paz\": {2000: 1.5, 2001: 1.7, 2002: 3.6},\n",
    "    \"San Salvador\": {2000: np.nan, 2001: 2.4, 2002: 2.9}\n",
    "}\n",
    "# Crea el DataFrame.\n",
    "datos1 = pd.DataFrame(poblacion)\n",
    "\n",
    "# Asigna el nombre \"anio\" al índice de las filas.\n",
    "datos1.index.name = \"anio\"\n",
    "# Asigna el nombre \"estado\" a las columnas.\n",
    "datos1.columns.name = \"estado\"\n",
    "print(datos1) # Imprime el DataFrame con los nombres de índice y columnas actualizados.\n"
   ]
  },
  {
   "cell_type": "code",
   "execution_count": 6,
   "id": "5f94c807",
   "metadata": {},
   "outputs": [
    {
     "name": "stdout",
     "output_type": "stream",
     "text": [
      "d    4.5\n",
      "c    7.2\n",
      "b   -5.3\n",
      "a    3.6\n",
      "dtype: float64\n",
      "a    3.6\n",
      "b   -5.3\n",
      "c    7.2\n",
      "d    4.5\n",
      "e    NaN\n",
      "f    NaN\n",
      "dtype: float64\n"
     ]
    }
   ],
   "source": [
    "#Método reindex aplicado a Series\n",
    "#Al invocar al método reindex() se reorganizan los datos según el nuevo índice, introduciendo\n",
    "#valores faltantes (NaN) si aún no había valores de índice presentes:\n",
    "\n",
    "# Reorganiza el índice de una Serie\n",
    "# Este ejemplo demuestra el uso del método `.reindex()` en una Serie de Pandas.\n",
    "import pandas as pd # Importa la librería pandas con el alias pd\n",
    "import numpy as np # Importa la librería numpy con el alias np\n",
    "\n",
    "# Crea una Serie con un conjunto de datos y un índice de letras.\n",
    "obj = pd.Series([4.5, 7.2, -5.3, 3.6], index=[\"d\", \"c\", \"b\", \"a\"])\n",
    "print(obj) # Imprime la Serie original.\n",
    "\n",
    "# Llama al método `reindex` con un nuevo índice.\n",
    "# Esto reordena los datos según el nuevo índice y añade valores `NaN` para las nuevas etiquetas\n",
    "# ('e' y 'f') que no existían en el índice original.\n",
    "obj2 = obj.reindex([\"a\", \"b\", \"c\", \"d\", \"e\", \"f\"])\n",
    "print(obj2) # Imprime la Serie con el nuevo índice y los valores reorganizados."
   ]
  },
  {
   "cell_type": "code",
   "execution_count": 7,
   "id": "0e7ae3ab",
   "metadata": {},
   "outputs": [
    {
     "name": "stdout",
     "output_type": "stream",
     "text": [
      "   San Salvador  San Miguel  Santa Ana\n",
      "a             0           1          2\n",
      "c             3           4          5\n",
      "d             6           7          8\n",
      "   San Salvador  San Miguel  Santa Ana\n",
      "a           0.0         1.0        2.0\n",
      "b           NaN         NaN        NaN\n",
      "c           3.0         4.0        5.0\n",
      "d           6.0         7.0        8.0\n"
     ]
    }
   ],
   "source": [
    "#Método reindex aplicado a Dataframe\n",
    "#Al invocar al método reindex() se reorganizan los datos según el nuevo índice, introduciendo\n",
    "#valores faltantes (NaN) si aún no había valores de índice presentes:\n",
    "\n",
    "# Reorganiza el índice de un DataFrame\n",
    "# Este ejemplo muestra cómo usar `.reindex()` para reordenar las filas de un DataFrame.\n",
    "import pandas as pd # Importa la librería pandas con el alias pd\n",
    "import numpy as np # Importa la librería numpy con el alias np\n",
    "\n",
    "# Crea un DataFrame a partir de un array de 3x3 de numpy.\n",
    "# Las filas tienen un índice de letras: 'a', 'c', 'd'.\n",
    "datos1 = pd.DataFrame(np.arange(9).reshape(3, 3), index=[\"a\", \"c\", \"d\"], columns=[\"San Salvador\", \"San Miguel\", \"Santa Ana\"])\n",
    "print(datos1) # Imprime el DataFrame original.\n",
    "\n",
    "# Llama a `reindex` con un nuevo índice de filas.\n",
    "# Las filas se reordenan para que coincidan con el nuevo índice.\n",
    "# Se añade una nueva fila con la etiqueta 'b', y como no hay datos para ella, se llena con `NaN`.\n",
    "datos2 = datos1.reindex([\"a\", \"b\", \"c\", \"d\"])\n",
    "print(datos2) # Imprime el DataFrame con las filas reordenadas y la nueva fila.\n"
   ]
  },
  {
   "cell_type": "code",
   "execution_count": null,
   "id": "3d61265b",
   "metadata": {},
   "outputs": [
    {
     "name": "stdout",
     "output_type": "stream",
     "text": [
      "                  date datatype            station attributes  value\n",
      "0  2018-01-01T00:00:00     PRCP  GHCND:US1CTFR0039       ,,N,    0.0\n",
      "1  2018-01-01T00:00:00     PRCP  GHCND:US1NJBG0015       ,,N,    0.0\n",
      "2  2018-01-01T00:00:00     SNOW  GHCND:US1NJBG0015       ,,N,    0.0\n",
      "3  2018-01-01T00:00:00     PRCP  GHCND:US1NJBG0017       ,,N,    0.0\n",
      "4  2018-01-01T00:00:00     SNOW  GHCND:US1NJBG0017       ,,N,    0.0\n",
      "                    date datatype            station attributes  value\n",
      "114  2018-01-01T00:00:00     SNOW  GHCND:US1NYWC0019       ,,N,   25.0\n",
      "699  2018-01-04T00:00:00     SNOW  GHCND:US1NJBG0015       ,,N,  229.0\n",
      "702  2018-01-04T00:00:00     SNOW  GHCND:US1NJBG0017       ,,N,   10.0\n",
      "706  2018-01-04T00:00:00     SNOW  GHCND:US1NJBG0018       ,,N,   46.0\n",
      "713  2018-01-04T00:00:00     SNOW  GHCND:US1NJES0018       ,,N,   10.0\n"
     ]
    }
   ],
   "source": [
    "#Lectura de archivo CSV con Pandas\n",
    "# Lee un archivo CSV\n",
    "# Este ejemplo demuestra cómo leer un archivo de valores separados por comas (CSV) en un DataFrame.\n",
    "import pandas as pd # Importa la librería pandas con el alias pd\n",
    "\n",
    "# Lee el archivo CSV ubicado en la ruta especificada y lo carga en un DataFrame.\n",
    "clima = pd.read_csv(\"C:/Users/jacqu/Downloads/Nueva carpeta/clima_2018.csv\")\n",
    "\n",
    "print(clima.head()) # Imprime las primeras filas del DataFrame para verificar su contenido.\n",
    "\n",
    "datos_snow = clima.query('datatype == \"SNOW\" and value > 0')# Filtra el DataFrame para obtener solo las filas donde 'datatype' es \"SNOW\" y 'value' es mayor que 0.\n",
    "print(datos_snow.head())# Imprime las primeras filas del DataFrame filtrado para verificar su contenido.\n",
    "\n",
    "\n",
    "#su sentencia equivalente en sql\n",
    "#SELECT * FROM clima WHERE datatype == \"SNOW\" AND value > 0;\n",
    "\n"
   ]
  },
  {
   "cell_type": "code",
   "execution_count": null,
   "id": "1ae79046",
   "metadata": {},
   "outputs": [
    {
     "name": "stdout",
     "output_type": "stream",
     "text": [
      "                  date datatype            station attributes  value\n",
      "0  2018-01-01T00:00:00     PRCP  GHCND:US1CTFR0039       ,,N,    0.0\n",
      "1  2018-01-01T00:00:00     PRCP  GHCND:US1NJBG0015       ,,N,    0.0\n",
      "2  2018-01-01T00:00:00     SNOW  GHCND:US1NJBG0015       ,,N,    0.0\n",
      "3  2018-01-01T00:00:00     PRCP  GHCND:US1NJBG0017       ,,N,    0.0\n",
      "4  2018-01-01T00:00:00     SNOW  GHCND:US1NJBG0017       ,,N,    0.0\n",
      "                      date datatype            station attributes  value\n",
      "114    2018-01-01T00:00:00     SNOW  GHCND:US1NYWC0019       ,,N,   25.0\n",
      "699    2018-01-04T00:00:00     SNOW  GHCND:US1NJBG0015       ,,N,  229.0\n",
      "702    2018-01-04T00:00:00     SNOW  GHCND:US1NJBG0017       ,,N,   10.0\n",
      "706    2018-01-04T00:00:00     SNOW  GHCND:US1NJBG0018       ,,N,   46.0\n",
      "713    2018-01-04T00:00:00     SNOW  GHCND:US1NJES0018       ,,N,   10.0\n",
      "...                    ...      ...                ...        ...    ...\n",
      "77075  2018-12-24T00:00:00     SNOW  GHCND:US1NJMS0097       ,,N,   25.0\n",
      "77085  2018-12-24T00:00:00     SNOW  GHCND:US1NJPS0012       ,,N,    3.0\n",
      "77094  2018-12-24T00:00:00     SNOW  GHCND:US1NJPS0025       ,,N,   20.0\n",
      "77120  2018-12-24T00:00:00     SNOW  GHCND:US1NYWC0018       ,,N,   18.0\n",
      "78432  2018-12-30T00:00:00     SNOW  GHCND:US1NYWC0018       ,,N,    5.0\n",
      "\n",
      "[639 rows x 5 columns]\n",
      "                      date datatype            station attributes  value\n",
      "698    2018-01-04T00:00:00     PRCP  GHCND:US1NJBG0015       ,,N,   20.6\n",
      "701    2018-01-04T00:00:00     PRCP  GHCND:US1NJBG0017       ,,N,    2.0\n",
      "705    2018-01-04T00:00:00     PRCP  GHCND:US1NJBG0018       ,,N,    8.6\n",
      "707    2018-01-04T00:00:00     PRCP  GHCND:US1NJBG0023       ,,N,    1.5\n",
      "712    2018-01-04T00:00:00     PRCP  GHCND:US1NJES0018       ,,N,    1.3\n",
      "...                    ...      ...                ...        ...    ...\n",
      "78736  2018-12-31T00:00:00     PRCP  GHCND:USW00054787       ,,W,   28.7\n",
      "78743  2018-12-31T00:00:00     PRCP  GHCND:USW00094728   ,,W,2400   25.9\n",
      "78751  2018-12-31T00:00:00     PRCP  GHCND:USW00094741       ,,W,   29.2\n",
      "78760  2018-12-31T00:00:00     PRCP  GHCND:USW00094745   ,,W,2400   24.4\n",
      "78768  2018-12-31T00:00:00     PRCP  GHCND:USW00094789   ,,W,2400   31.2\n",
      "\n",
      "[12524 rows x 5 columns]\n"
     ]
    }
   ],
   "source": [
    "#Método query para consultas a Dataframe\n",
    "import pandas as pd # Importa la librería pandas con el alias pd\n",
    "import numpy as np # Importa la librería numpy con el alias np\n",
    "\n",
    "# Lee el archivo CSV ubicado en la ruta especificada y lo carga en un DataFrame.\n",
    "clima = pd.read_csv(\"C:/Users/jacqu/Downloads/Nueva carpeta/clima_2018.csv\")\n",
    "print(clima.head())\n",
    "datos_nieve = clima.query('datatype == \"SNOW\" and value > 0')\n",
    "print(datos_nieve)\n",
    "datos_nieve = clima.query('datatype == \"PRCP\" and value > 0')\n",
    "print (datos_nieve)\n",
    "\n",
    "#nota Sentencia SQL equivalente\n",
    "#SELECT * FROM clima WHERE datatypе == \"SNOW\" AND value > 0;\n",
    "#SELECT * FROM clima WHERE datatype == \"PRCP\" AND value > 0;"
   ]
  },
  {
   "cell_type": "code",
   "execution_count": null,
   "id": "db92cf4d",
   "metadata": {},
   "outputs": [
    {
     "name": "stdout",
     "output_type": "stream",
     "text": [
      "                  date datatype            station attributes  value\n",
      "0  2018-01-01T00:00:00     PRCP  GHCND:US1CTFR0039       ,,N,    0.0\n",
      "1  2018-01-01T00:00:00     PRCP  GHCND:US1NJBG0015       ,,N,    0.0\n",
      "2  2018-01-01T00:00:00     SNOW  GHCND:US1NJBG0015       ,,N,    0.0\n",
      "3  2018-01-01T00:00:00     PRCP  GHCND:US1NJBG0017       ,,N,    0.0\n",
      "4  2018-01-01T00:00:00     SNOW  GHCND:US1NJBG0017       ,,N,    0.0\n",
      "                      date datatype            station attributes  value\n",
      "10859  2018-02-18T00:00:00     SNOW  GHCND:US1CTFR0039       ,,N,  133.0\n",
      "18114  2018-03-22T00:00:00     SNOW  GHCND:US1CTFR0039       ,,N,  165.0\n",
      "20568  2018-04-02T00:00:00     SNOW  GHCND:US1CTFR0039       ,,N,  184.0\n"
     ]
    }
   ],
   "source": [
    "#Método query para consultas a Dataframe parte 2  usando like\n",
    "import numpy as np\n",
    "import pandas as pd\n",
    "\n",
    "# Lee el archivo CSV ubicado en la ruta especificada y lo carga en un DataFrame.\n",
    "clima = pd.read_csv(\"C:/Users/jacqu/Downloads/Nueva carpeta/clima_2018.csv\")\n",
    "print(clima.head())\n",
    "datos = clima.query('datatype == \"SNOW\" and value > 100 and station.str.contains (\"US1CTFR0039\")')\n",
    "print (datos)\n",
    "\n",
    "#nota Sentencia SQL equivalente\n",
    "#SELECT * FROM clima WHERE\n",
    "#datatype == \"SNOW\" AND value > 0 AND station LIKE \"%US1CTFR0039%\";\n"
   ]
  },
  {
   "cell_type": "code",
   "execution_count": 4,
   "id": "dcb6e51d",
   "metadata": {},
   "outputs": [
    {
     "name": "stdout",
     "output_type": "stream",
     "text": [
      "                  date datatype            station attributes  value\n",
      "0  2018-01-01T00:00:00     PRCP  GHCND:US1CTFR0039       ,,N,    0.0\n",
      "1  2018-01-01T00:00:00     PRCP  GHCND:US1NJBG0015       ,,N,    0.0\n",
      "2  2018-01-01T00:00:00     SNOW  GHCND:US1NJBG0015       ,,N,    0.0\n",
      "3  2018-01-01T00:00:00     PRCP  GHCND:US1NJBG0017       ,,N,    0.0\n",
      "4  2018-01-01T00:00:00     SNOW  GHCND:US1NJBG0017       ,,N,    0.0\n",
      "\n",
      " ****** clima.date.describe(): ******\n",
      "count                   78780\n",
      "unique                    365\n",
      "top       2018-03-22T00:00:00\n",
      "freq                      296\n",
      "Name: date, dtype: object\n",
      "\n",
      " ****** clima.value.describe(): ******\n",
      "count    78780.000000\n",
      "mean        44.951456\n",
      "std        192.835503\n",
      "min        -72.800000\n",
      "25%          0.000000\n",
      "50%          1.000000\n",
      "75%         12.800000\n",
      "max       2359.000000\n",
      "Name: value, dtype: float64\n"
     ]
    }
   ],
   "source": [
    "#Método describe aplicado a columnas de un Dataframe\n",
    "\n",
    "# Obtiene un resumen estadístico de las columnas\n",
    "# Este ejemplo demuestra el uso del método `.describe()`, que proporciona un resumen estadístico de los datos.\n",
    "import pandas as pd # Importa la librería pandas con el alias pd\n",
    "\n",
    "# Lee el archivo CSV ubicado en la ruta especificada y lo carga en un DataFrame.\n",
    "clima = pd.read_csv(\"C:/Users/jacqu/Documents/Aprendizaje Automatico y ciencia de datos/Python/Guia 8 Pandas parte 2/clima_2018.csv\")\n",
    "print(clima.head())\n",
    "\n",
    "print(\"\\n ****** clima.date.describe(): ******\")\n",
    "print(clima.date.describe())\n",
    "print(\"\\n ****** clima.value.describe(): ******\")\n",
    "print(clima.value.describe())"
   ]
  }
 ],
 "metadata": {
  "kernelspec": {
   "display_name": "venv (3.13.7)",
   "language": "python",
   "name": "python3"
  },
  "language_info": {
   "codemirror_mode": {
    "name": "ipython",
    "version": 3
   },
   "file_extension": ".py",
   "mimetype": "text/x-python",
   "name": "python",
   "nbconvert_exporter": "python",
   "pygments_lexer": "ipython3",
   "version": "3.13.7"
  }
 },
 "nbformat": 4,
 "nbformat_minor": 5
}
