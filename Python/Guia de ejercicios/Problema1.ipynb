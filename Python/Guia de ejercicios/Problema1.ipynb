{
 "cells": [
  {
   "cell_type": "markdown",
   "id": "21440252",
   "metadata": {},
   "source": [
    "#**Problema 1.** \n",
    "Leer el archivo de datos **marketing.csv**, almacenar el contenido en un **DataFrame**, y proceder a resolver los siguientes enunciados:\n",
    "\n",
    "a) Cargado el archivo **marketing.csv** en el DataFrame, mostrar, mediante **DataFrame.describe()**, las características resumen de las columnas que no son numéricas (5%)."
   ]
  },
  {
   "cell_type": "code",
   "execution_count": 3,
   "id": "d9be7ddf",
   "metadata": {},
   "outputs": [
    {
     "name": "stdout",
     "output_type": "stream",
     "text": [
      "Resumen de las caracteristicas que no son numéricas \n",
      "         Education Marital_Status Dt_Customer\n",
      "count         2240           2240        2240\n",
      "unique           5              8         663\n",
      "top     Graduation        Married  31-08-2012\n",
      "freq          1127            864          12\n"
     ]
    }
   ],
   "source": [
    "import pandas as pd \n",
    "\n",
    "marketing = pd.read_csv(\"C:/Users/Jacky/Documents/Aprendizaje_Automatico_y_ciencia_de_datos/Python/Guia de ejercicios/marketing.csv\", sep=\"\\t\")\n",
    "#print(marketing.head(2))# Muestra las primeras 2 filas del DataFrame\n",
    "print(\"Resumen de las caracteristicas que no son numéricas \")\n",
    "print(marketing.describe(include=['object']))\n"
   ]
  },
  {
   "cell_type": "markdown",
   "id": "0cdfac0d",
   "metadata": {},
   "source": [
    "b) Cargado el archivo **marketing.csv** en el DataFrame, mostrar, mediante **DataFrame.describe()**, las características resumen de las columnas que sí son numéricas. Mostrar los cuartiles, es decir, percentiles 25%, 50% y 75% (5%)."
   ]
  },
  {
   "cell_type": "code",
   "execution_count": 4,
   "id": "c00c4389",
   "metadata": {},
   "outputs": [
    {
     "name": "stdout",
     "output_type": "stream",
     "text": [
      "Mosntrando todas las carateristicas resumen con describe()\n",
      "                 ID   Year_Birth         Income      Kidhome     Teenhome  \\\n",
      "count   2240.000000  2240.000000    2216.000000  2240.000000  2240.000000   \n",
      "mean    5592.159821  1968.805804   52247.251354     0.444196     0.506250   \n",
      "std     3246.662198    11.984069   25173.076661     0.538398     0.544538   \n",
      "min        0.000000  1893.000000    1730.000000     0.000000     0.000000   \n",
      "25%     2828.250000  1959.000000   35303.000000     0.000000     0.000000   \n",
      "50%     5458.500000  1970.000000   51381.500000     0.000000     0.000000   \n",
      "75%     8427.750000  1977.000000   68522.000000     1.000000     1.000000   \n",
      "max    11191.000000  1996.000000  666666.000000     2.000000     2.000000   \n",
      "\n",
      "           Recency     MntWines    MntFruits  MntMeatProducts  \\\n",
      "count  2240.000000  2240.000000  2240.000000      2240.000000   \n",
      "mean     49.109375   303.935714    26.302232       166.950000   \n",
      "std      28.962453   336.597393    39.773434       225.715373   \n",
      "min       0.000000     0.000000     0.000000         0.000000   \n",
      "25%      24.000000    23.750000     1.000000        16.000000   \n",
      "50%      49.000000   173.500000     8.000000        67.000000   \n",
      "75%      74.000000   504.250000    33.000000       232.000000   \n",
      "max      99.000000  1493.000000   199.000000      1725.000000   \n",
      "\n",
      "       MntFishProducts  ...  NumWebVisitsMonth  AcceptedCmp3  AcceptedCmp4  \\\n",
      "count      2240.000000  ...        2240.000000   2240.000000   2240.000000   \n",
      "mean         37.525446  ...           5.316518      0.072768      0.074554   \n",
      "std          54.628979  ...           2.426645      0.259813      0.262728   \n",
      "min           0.000000  ...           0.000000      0.000000      0.000000   \n",
      "25%           3.000000  ...           3.000000      0.000000      0.000000   \n",
      "50%          12.000000  ...           6.000000      0.000000      0.000000   \n",
      "75%          50.000000  ...           7.000000      0.000000      0.000000   \n",
      "max         259.000000  ...          20.000000      1.000000      1.000000   \n",
      "\n",
      "       AcceptedCmp5  AcceptedCmp1  AcceptedCmp2     Complain  Z_CostContact  \\\n",
      "count   2240.000000   2240.000000   2240.000000  2240.000000         2240.0   \n",
      "mean       0.072768      0.064286      0.013393     0.009375            3.0   \n",
      "std        0.259813      0.245316      0.114976     0.096391            0.0   \n",
      "min        0.000000      0.000000      0.000000     0.000000            3.0   \n",
      "25%        0.000000      0.000000      0.000000     0.000000            3.0   \n",
      "50%        0.000000      0.000000      0.000000     0.000000            3.0   \n",
      "75%        0.000000      0.000000      0.000000     0.000000            3.0   \n",
      "max        1.000000      1.000000      1.000000     1.000000            3.0   \n",
      "\n",
      "       Z_Revenue     Response  \n",
      "count     2240.0  2240.000000  \n",
      "mean        11.0     0.149107  \n",
      "std          0.0     0.356274  \n",
      "min         11.0     0.000000  \n",
      "25%         11.0     0.000000  \n",
      "50%         11.0     0.000000  \n",
      "75%         11.0     0.000000  \n",
      "max         11.0     1.000000  \n",
      "\n",
      "[8 rows x 26 columns]\n",
      "Monstrando unicamente los cuartiles 25%, 50% y 75%\n",
      "          ID  Year_Birth   Income  Kidhome  Teenhome  Recency  MntWines  \\\n",
      "25%  2828.25      1959.0  35303.0      0.0       0.0     24.0     23.75   \n",
      "50%  5458.50      1970.0  51381.5      0.0       0.0     49.0    173.50   \n",
      "75%  8427.75      1977.0  68522.0      1.0       1.0     74.0    504.25   \n",
      "\n",
      "     MntFruits  MntMeatProducts  MntFishProducts  ...  NumWebVisitsMonth  \\\n",
      "25%        1.0             16.0              3.0  ...                3.0   \n",
      "50%        8.0             67.0             12.0  ...                6.0   \n",
      "75%       33.0            232.0             50.0  ...                7.0   \n",
      "\n",
      "     AcceptedCmp3  AcceptedCmp4  AcceptedCmp5  AcceptedCmp1  AcceptedCmp2  \\\n",
      "25%           0.0           0.0           0.0           0.0           0.0   \n",
      "50%           0.0           0.0           0.0           0.0           0.0   \n",
      "75%           0.0           0.0           0.0           0.0           0.0   \n",
      "\n",
      "     Complain  Z_CostContact  Z_Revenue  Response  \n",
      "25%       0.0            3.0       11.0       0.0  \n",
      "50%       0.0            3.0       11.0       0.0  \n",
      "75%       0.0            3.0       11.0       0.0  \n",
      "\n",
      "[3 rows x 26 columns]\n"
     ]
    }
   ],
   "source": [
    "#El data frame ya fue caragado en el literal anterior y guardado en la variable marketing\n",
    "#Uso loc para seleccionar las filas cuyas etiquetas(indices) corresponden a los cuartiles 25%, 50% y 75%\n",
    "#print(marketing.describe().loc[['25%', '50%', '75%']])\n",
    "#con describe y query queriendo solo los cuartiles 25%, 50% y 75% para mostrar el mismo resultado\n",
    "print(\"Mosntrando todas las carateristicas resumen con describe()\")\n",
    "print(marketing.describe())\n",
    "print(\"Monstrando unicamente los cuartiles 25%, 50% y 75%\")\n",
    "Cuartiles=marketing.describe().query(\"index in ['25%', '50%', '75%']\")\n",
    "print(Cuartiles)\n"
   ]
  },
  {
   "cell_type": "markdown",
   "id": "939b3bb3",
   "metadata": {},
   "source": [
    "\n",
    "c) Cambiar los nombres de las columnas **Year_Birth**, **Education** y **Marital_Status** del DataFrame a **Año_de_nacimiento**, **Educación** y **Estado_civil**, respectivamente. Devolver una copia del DataFrame, de modo que el DataFrame original se mantenga inalterado (5%)."
   ]
  },
  {
   "cell_type": "code",
   "execution_count": 8,
   "id": "688db6d8",
   "metadata": {},
   "outputs": [
    {
     "name": "stdout",
     "output_type": "stream",
     "text": [
      "DataFrame original con las columnas originales\n",
      "Index(['Year_Birth', 'Education', 'Marital_Status'], dtype='object')\n",
      "DataFrame copia con las columnas renombradas\n",
      "Index(['Año_de_nacimiento', 'Educación', 'Estado_civil'], dtype='object')\n"
     ]
    }
   ],
   "source": [
    "#Renombrando las columnas y guardando el resultado en un nuevo DataFrame tipo copia el cual tiene las columnas renombradas\n",
    "marketing_copia=marketing.rename(columns={\"Year_Birth\": \"Año_de_nacimiento\", \"Education\": \"Educación\", \"Marital_Status\": \"Estado_civil\"}, inplace=False)\n",
    "print(\"DataFrame original con las columnas originales\")\n",
    "originales = [\"Year_Birth\", \"Education\", \"Marital_Status\"]\n",
    "print(marketing[originales].columns)\n",
    "print(\"DataFrame copia con las columnas renombradas\")\n",
    "renombradas = [\"Año_de_nacimiento\", \"Educación\", \"Estado_civil\"]\n",
    "print(marketing_copia[renombradas].columns)"
   ]
  },
  {
   "cell_type": "markdown",
   "id": "c26a26e2",
   "metadata": {},
   "source": [
    "\n",
    "d) Determinar cuantas columnas del DataFrame tienen valores perdidos (valores faltantes) (5%)."
   ]
  },
  {
   "cell_type": "code",
   "execution_count": null,
   "id": "f0b89dc7",
   "metadata": {},
   "outputs": [
    {
     "name": "stdout",
     "output_type": "stream",
     "text": [
      "Ver Columnas con datos faltantes\n",
      "Las columnas con datos faltantes son:  Index(['Income'], dtype='object')\n",
      "Lantidad de columnas con datos faltantes(NaN) es:  1\n",
      "Cantidad de datos faltantes por  otra  forma  columna\n",
      "1\n"
     ]
    }
   ],
   "source": [
    "print(\"Ver Columnas con datos faltantes\")\n",
    "Nan=marketing.isnull().any()\n",
    "columnas_Nan=marketing.columns[Nan]\n",
    "print(\"Las columnas con datos faltantes son: \",  columnas_Nan)\n",
    "#Cantiad de columnas con datos faltantes\n",
    "cantidad_columnas_Nan=Nan.sum()\n",
    "print(\"Lantidad de columnas con datos faltantes(NaN) es: \", cantidad_columnas_Nan)\n",
    "print(\"Cantidad de datos faltantes por  otra  forma  columna\")\n",
    "print(len(columnas_Nan))\n"
   ]
  },
  {
   "cell_type": "markdown",
   "id": "b1afe288",
   "metadata": {},
   "source": [
    "\n",
    "e) Cambiar el tipo de datos de las columnas **MntWines**, **MntFruits**, **MntMeatProducts**, **MntFishProducts**, **MntSweetProducts** y **MntGoldProds** del DataFrame, realizar al cambio al tipo de dato **float64** (5%)."
   ]
  },
  {
   "cell_type": "code",
   "execution_count": 21,
   "id": "71f2c623",
   "metadata": {},
   "outputs": [
    {
     "name": "stdout",
     "output_type": "stream",
     "text": [
      "Vemos el tipo de datos antes del cambio\n",
      "MntWines            int64\n",
      "MntFruits           int64\n",
      "MntMeatProducts     int64\n",
      "MntFishProducts     int64\n",
      "MntSweetProducts    int64\n",
      "MntGoldProds        int64\n",
      "dtype: object\n",
      "Vemos el cambio de tipo de datos\n",
      "MntWines            float64\n",
      "MntFruits           float64\n",
      "MntMeatProducts     float64\n",
      "MntFishProducts     float64\n",
      "MntSweetProducts    float64\n",
      "MntGoldProds        float64\n",
      "dtype: object\n"
     ]
    }
   ],
   "source": [
    "#Para no modificar el dataframa original ocupamos la copia marketing_copia\n",
    "Mnt_Columnas = ['MntWines', 'MntFruits', 'MntMeatProducts', 'MntFishProducts', 'MntSweetProducts', 'MntGoldProds']\n",
    "print(\"Vemos el tipo de datos antes del cambio\")\n",
    "#podemos usar el original marketing o la copia marketing_copia para ver el tipo de datos antes del cambio\n",
    "print(marketing.dtypes[Mnt_Columnas])\n",
    "#Cambiando el tipo de datos de las columnas especificadas a float64\n",
    "marketing_copia=marketing_copia[Mnt_Columnas].astype(\"float64\")\n",
    "print(\"Vemos el cambio de tipo de datos\")\n",
    "print(marketing_copia.dtypes[Mnt_Columnas])\n"
   ]
  },
  {
   "cell_type": "markdown",
   "id": "2fa05ea4",
   "metadata": {},
   "source": [
    "\n",
    "f) Obtener con una sola orden, la media, desviación y suma de la columna **Income**. Indexar los elementos resultantes utilizando las etiquetas **Media**, **Desviación** y **Suma** respectivamente (5%)."
   ]
  },
  {
   "cell_type": "code",
   "execution_count": 20,
   "id": "709ebe70",
   "metadata": {},
   "outputs": [
    {
     "name": "stdout",
     "output_type": "stream",
     "text": [
      "Resultado al obtener la media(mean), desviación estándar(std) y suma de la columna(sum) Income\n",
      "mean    5.224725e+04\n",
      "std     2.517308e+04\n",
      "sum     1.157799e+08\n",
      "Name: Income, dtype: float64\n"
     ]
    }
   ],
   "source": [
    "Columna_Income=marketing_copia[\"Income\"]\n",
    "Datos = Columna_Income.agg(['mean', 'std', 'sum'])\n",
    "print(\"Resultado al obtener la media(mean), desviación estándar(std) y suma de la columna(sum) Income\")\n",
    "print(Datos)\n"
   ]
  },
  {
   "cell_type": "markdown",
   "id": "c74df5d7",
   "metadata": {},
   "source": [
    "\n",
    "g) Utilizando una sola orden, obtener la media y desviación estándar para todas las columnas “**Mnt**” en **mnt_colums** (5%)."
   ]
  },
  {
   "cell_type": "code",
   "execution_count": 22,
   "id": "146ae512",
   "metadata": {},
   "outputs": [
    {
     "name": "stdout",
     "output_type": "stream",
     "text": [
      "Resultado al obtener la media(mean) y desviación estándar(std) de las columnas de Mnt\n",
      "        MntWines  MntFruits  MntMeatProducts  MntFishProducts  \\\n",
      "mean  303.935714  26.302232       166.950000        37.525446   \n",
      "std   336.597393  39.773434       225.715373        54.628979   \n",
      "\n",
      "      MntSweetProducts  MntGoldProds  \n",
      "mean         27.062946     44.021875  \n",
      "std          41.280498     52.167439  \n"
     ]
    }
   ],
   "source": [
    "\n",
    "Calculos = marketing[['MntWines', 'MntFruits', 'MntMeatProducts', 'MntFishProducts', 'MntSweetProducts', 'MntGoldProds']].describe().query(\"index in ['mean', 'std']\")\n",
    "#Otra forma de hacerlo y la recomendada es usando agg\n",
    "Calculos2 = marketing[['MntWines', 'MntFruits', 'MntMeatProducts', 'MntFishProducts', 'MntSweetProducts','MntGoldProds']].agg(['mean', 'std'])\n",
    "print(\"Resultado al obtener la media(mean) y desviación estándar(std) de las columnas de Mnt\")\n",
    "#print(Calculos)\n",
    "print(Calculos2)"
   ]
  },
  {
   "cell_type": "markdown",
   "id": "441e91d5",
   "metadata": {},
   "source": [
    "\n",
    "h) Mostrar los 5 clientes (**5 filas**) cuya suma de gastos (columnas en **mnt_colums**) es mayor que el resto de clientes (5%).\n"
   ]
  },
  {
   "cell_type": "code",
   "execution_count": 8,
   "id": "99bdf03d",
   "metadata": {},
   "outputs": [
    {
     "name": "stdout",
     "output_type": "stream",
     "text": [
      "Resultado al obtener la suma de las columnas de Mnt\n",
      "          Gasto$\n",
      "Clientes        \n",
      "1572        2525\n",
      "1179        2525\n",
      "1492        2524\n",
      "987         2486\n",
      "1052        2440\n"
     ]
    }
   ],
   "source": [
    "# Creamos la columna Gasto que es la suma de las columnas de Mnt para cada cliente(fila) dicho de otra forma es el resultado de sumar horizontalmente las columnas de Mnt\n",
    "marketing['Gasto$'] = marketing[Mnt_Columnas].sum(axis=1)\n",
    "\n",
    "# Los 5 clientes que más gastaron\n",
    "clientes_5 = marketing.sort_values(by='Gasto$', ascending=False).head(5)\n",
    "\n",
    "# Agrega una etiqueta al índice y le da un nombre\n",
    "clientes_5.index.name = 'Clientes'\n",
    "clientes_5 = clientes_5[['Gasto$']]\n",
    "\n",
    "print(\"Resultado al obtener la suma de las columnas de Mnt\")\n",
    "print(clientes_5)"
   ]
  },
  {
   "cell_type": "markdown",
   "id": "ea539226",
   "metadata": {},
   "source": [
    "Usar un solo par de corchetes, como clientes_5['Gasto'], seleccionaría la columna y devolvería un objeto de tipo Series de Pandas, que es una estructura de datos unidimensional.\n",
    "\n",
    "Usar corchetes dobles, como clientes_5[['Gasto']], selecciona la misma columna pero devuelve un DataFrame, que es una estructura de datos bidimensional (una tabla) con una sola columna."
   ]
  },
  {
   "cell_type": "markdown",
   "id": "477a0225",
   "metadata": {},
   "source": [
    "i) Calcular el porcentaje de dinero que gasta cada cliente (columnas en **mnt_colums**) con respecto a sus ingresos (5%).\n",
    "\n"
   ]
  },
  {
   "cell_type": "code",
   "execution_count": 9,
   "id": "d09fcf39",
   "metadata": {},
   "outputs": [
    {
     "name": "stdout",
     "output_type": "stream",
     "text": [
      "Resultado al obtener las columnas Income y Gasto$\n",
      "       Income  Gasto$  %Dinero_Gastado\n",
      "0     58138.0    1617         2.781313\n",
      "1     46344.0      27         0.058260\n",
      "2     71613.0     776         1.083602\n",
      "3     26646.0      53         0.198904\n",
      "4     58293.0     422         0.723929\n",
      "...       ...     ...              ...\n",
      "2235  61223.0    1341         2.190353\n",
      "2236  64014.0     444         0.693598\n",
      "2237  56981.0    1241         2.177919\n",
      "2238  69245.0     843         1.217416\n",
      "2239  52869.0     172         0.325332\n",
      "\n",
      "[2240 rows x 3 columns]\n"
     ]
    }
   ],
   "source": [
    "#Ingresos (Income) columna\n",
    "Ingreso_vs_Gasto=['Income', 'Gasto$']\n",
    "Ver=marketing[Ingreso_vs_Gasto]\n",
    "# Calculamos el porcentaje de dinero gastado respecto al ingreso y creamos una nueva columna '%Dinero_Gastado' donde se almacena el resultado\n",
    "marketing['%Dinero_Gastado']=(marketing['Gasto$']/marketing['Income'])*100\n",
    "df=marketing[['Income', 'Gasto$', '%Dinero_Gastado']]\n",
    "print(\"Resultado al obtener las columnas Income y Gasto$\")\n",
    "print(df)\n",
    "\n"
   ]
  },
  {
   "cell_type": "markdown",
   "id": "97ac3dcd",
   "metadata": {},
   "source": [
    "j) Calcular la media y desviación del **50%** de los clientes que tienen un mayor salario (5%)"
   ]
  },
  {
   "cell_type": "code",
   "execution_count": null,
   "id": "85fd82d2",
   "metadata": {},
   "outputs": [
    {
     "name": "stdout",
     "output_type": "stream",
     "text": [
      "El 50% de los clientes es:  560.0\n",
      "Los clientes que más ingresos tienen son:           ID  Year_Birth   Education Marital_Status    Income  Kidhome  \\\n",
      "2233   9432        1977  Graduation       Together  666666.0        1   \n",
      "617    1503        1976         PhD       Together  162397.0        1   \n",
      "687    1501        1982         PhD        Married  160803.0        0   \n",
      "1300   5336        1971      Master       Together  157733.0        1   \n",
      "164    8475        1973         PhD        Married  157243.0        0   \n",
      "...     ...         ...         ...            ...       ...      ...   \n",
      "2083   5396        1988  Graduation        Married   68487.0        0   \n",
      "357    6184        1969         PhD        Married   68462.0        0   \n",
      "929   10673        1976         PhD        Married   68397.0        0   \n",
      "143    2937        1974         PhD         Single   68352.0        0   \n",
      "1029   8985        1964    2n Cycle       Together   68316.0        0   \n",
      "\n",
      "      Teenhome Dt_Customer  Recency  MntWines  ...  NumWebVisitsMonth  \\\n",
      "2233         0  02-06-2013       23         9  ...                  6   \n",
      "617          1  03-06-2013       31        85  ...                  1   \n",
      "687          0  04-08-2012       21        55  ...                  0   \n",
      "1300         0  04-06-2013       37        39  ...                  1   \n",
      "164          1  01-03-2014       98        20  ...                  0   \n",
      "...        ...         ...      ...       ...  ...                ...   \n",
      "2083         0  13-01-2013       48       758  ...                  4   \n",
      "357          0  12-12-2012        6       561  ...                  1   \n",
      "929          1  17-11-2013        6       760  ...                  3   \n",
      "143          1  28-08-2013       47       614  ...                  6   \n",
      "1029         1  04-11-2012       54       806  ...                  6   \n",
      "\n",
      "      AcceptedCmp3  AcceptedCmp4  AcceptedCmp5  AcceptedCmp1  AcceptedCmp2  \\\n",
      "2233             0             0             0             0             0   \n",
      "617              0             0             0             0             0   \n",
      "687              0             0             0             0             0   \n",
      "1300             0             0             0             0             0   \n",
      "164              0             0             0             0             0   \n",
      "...            ...           ...           ...           ...           ...   \n",
      "2083             0             0             0             0             0   \n",
      "357              0             0             0             0             0   \n",
      "929              0             0             0             0             0   \n",
      "143              0             0             0             0             0   \n",
      "1029             0             0             0             0             0   \n",
      "\n",
      "      Complain  Z_CostContact  Z_Revenue  Response  \n",
      "2233         0              3         11         0  \n",
      "617          0              3         11         0  \n",
      "687          0              3         11         0  \n",
      "1300         0              3         11         0  \n",
      "164          0              3         11         0  \n",
      "...        ...            ...        ...       ...  \n",
      "2083         0              3         11         0  \n",
      "357          0              3         11         0  \n",
      "929          0              3         11         0  \n",
      "143          0              3         11         0  \n",
      "1029         0              3         11         0  \n",
      "\n",
      "[560 rows x 29 columns]\n",
      "Media y desviación estándar de los clientes que más ingresos tienen\n",
      "               ID   Year_Birth        Income   Kidhome  Teenhome    Recency  \\\n",
      "mean  5660.250000  1967.885714  80450.566071  0.078571  0.280357  48.791071   \n",
      "std   3164.997052    13.083924  27308.609941  0.275872  0.480355  29.459974   \n",
      "\n",
      "        MntWines  MntFruits  MntMeatProducts  MntFishProducts  ...  \\\n",
      "mean  635.558929  60.614286       435.450000        88.373214  ...   \n",
      "std   331.655133  48.774841       253.090637        65.289955  ...   \n",
      "\n",
      "      NumWebVisitsMonth  AcceptedCmp3  AcceptedCmp4  AcceptedCmp5  \\\n",
      "mean           2.926786      0.076786      0.137500      0.273214   \n",
      "std            1.849430      0.266489      0.344682      0.446008   \n",
      "\n",
      "      AcceptedCmp1  AcceptedCmp2  Complain  Z_CostContact  Z_Revenue  Response  \n",
      "mean      0.216071      0.028571  0.003571            3.0       11.0  0.266071  \n",
      "std       0.411932      0.166748  0.059708            0.0        0.0  0.442297  \n",
      "\n",
      "[2 rows x 26 columns]\n"
     ]
    }
   ],
   "source": [
    "#total de filas\n",
    "total_filas=len(marketing)\n",
    "#otra forma\n",
    "#marketing.shape[0] #número de filas\n",
    "el50_porciento_clientes = (marketing.shape[0] * 0.5)\n",
    "print(\"El 50% de los clientes es: \", el50_porciento_clientes)\n",
    "orden=marketing.sort_values(by='Income', ascending=False).head(int(el50_porciento_clientes))\n",
    "#Seleccionamos el 50% de los clientes que más ingresos tienen\n",
    "print(\"Los clientes que más ingresos tienen son: \" , orden)\n",
    "#calculando la media y la desviacion\n",
    "print(\"Media y desviación estándar de los clientes que más ingresos tienen\")\n",
    "print(orden.describe().query(\"index in ['mean', 'std']\"))\n",
    "\n"
   ]
  }
 ],
 "metadata": {
  "kernelspec": {
   "display_name": "venv (3.13.7)",
   "language": "python",
   "name": "python3"
  },
  "language_info": {
   "codemirror_mode": {
    "name": "ipython",
    "version": 3
   },
   "file_extension": ".py",
   "mimetype": "text/x-python",
   "name": "python",
   "nbconvert_exporter": "python",
   "pygments_lexer": "ipython3",
   "version": "3.13.7"
  }
 },
 "nbformat": 4,
 "nbformat_minor": 5
}
