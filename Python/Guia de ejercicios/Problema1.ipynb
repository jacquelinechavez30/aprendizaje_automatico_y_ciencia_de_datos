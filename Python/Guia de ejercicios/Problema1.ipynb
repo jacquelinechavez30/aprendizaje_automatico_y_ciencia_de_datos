{
 "cells": [
  {
   "cell_type": "markdown",
   "id": "21440252",
   "metadata": {},
   "source": [
    "#**Problema 1.** \n",
    "Leer el archivo de datos **marketing.csv**, almacenar el contenido en un **DataFrame**, y proceder a resolver los siguientes enunciados:\n",
    "\n",
    "a) Cargado el archivo **marketing.csv** en el DataFrame, mostrar, mediante **DataFrame.describe()**, las características resumen de las columnas que no son numéricas (5%)."
   ]
  },
  {
   "cell_type": "code",
   "execution_count": 30,
   "id": "d9be7ddf",
   "metadata": {},
   "outputs": [
    {
     "name": "stdout",
     "output_type": "stream",
     "text": [
      "     ID  Year_Birth   Education Marital_Status   Income  Kidhome  Teenhome  \\\n",
      "0  5524        1957  Graduation         Single  58138.0        0         0   \n",
      "1  2174        1954  Graduation         Single  46344.0        1         1   \n",
      "\n",
      "  Dt_Customer  Recency  MntWines  ...  NumWebVisitsMonth  AcceptedCmp3  \\\n",
      "0  04-09-2012       58       635  ...                  7             0   \n",
      "1  08-03-2014       38        11  ...                  5             0   \n",
      "\n",
      "   AcceptedCmp4  AcceptedCmp5  AcceptedCmp1  AcceptedCmp2  Complain  \\\n",
      "0             0             0             0             0         0   \n",
      "1             0             0             0             0         0   \n",
      "\n",
      "   Z_CostContact  Z_Revenue  Response  \n",
      "0              3         11         1  \n",
      "1              3         11         0  \n",
      "\n",
      "[2 rows x 29 columns]\n",
      "Resumen de las caracteristicas que no son numéricas \n",
      "         Education Marital_Status Dt_Customer\n",
      "count         2240           2240        2240\n",
      "unique           5              8         663\n",
      "top     Graduation        Married  31-08-2012\n",
      "freq          1127            864          12\n"
     ]
    }
   ],
   "source": [
    "import pandas as pd \n",
    "\n",
    "marketing = pd.read_csv(\"C:/Users/jacqu/Documents/Aprendizaje Automatico y ciencia de datos/Python/Guia de ejercicios/marketing.csv\", sep=\"\\t\")\n",
    "print(marketing.head(2))# Muestra las primeras 2 filas del DataFrame\n",
    "print(\"Resumen de las caracteristicas que no son numéricas \")\n",
    "print(marketing.describe(include=['object']))\n"
   ]
  },
  {
   "cell_type": "markdown",
   "id": "0cdfac0d",
   "metadata": {},
   "source": [
    "b) Cargado el archivo **marketing.csv** en el DataFrame, mostrar, mediante **DataFrame.describe()**, las características resumen de las columnas que sí son numéricas. Mostrar los cuartiles, es decir, percentiles 25%, 50% y 75% (5%)."
   ]
  },
  {
   "cell_type": "code",
   "execution_count": 31,
   "id": "c00c4389",
   "metadata": {},
   "outputs": [
    {
     "name": "stdout",
     "output_type": "stream",
     "text": [
      "Resumen de las caracteristicas que son numéricas monstrando unicamente los cuartiles 25%, 50% y 75%\n",
      "          ID  Year_Birth   Income  Kidhome  Teenhome  Recency  MntWines  \\\n",
      "25%  2828.25      1959.0  35303.0      0.0       0.0     24.0     23.75   \n",
      "50%  5458.50      1970.0  51381.5      0.0       0.0     49.0    173.50   \n",
      "75%  8427.75      1977.0  68522.0      1.0       1.0     74.0    504.25   \n",
      "\n",
      "     MntFruits  MntMeatProducts  MntFishProducts  ...  NumWebVisitsMonth  \\\n",
      "25%        1.0             16.0              3.0  ...                3.0   \n",
      "50%        8.0             67.0             12.0  ...                6.0   \n",
      "75%       33.0            232.0             50.0  ...                7.0   \n",
      "\n",
      "     AcceptedCmp3  AcceptedCmp4  AcceptedCmp5  AcceptedCmp1  AcceptedCmp2  \\\n",
      "25%           0.0           0.0           0.0           0.0           0.0   \n",
      "50%           0.0           0.0           0.0           0.0           0.0   \n",
      "75%           0.0           0.0           0.0           0.0           0.0   \n",
      "\n",
      "     Complain  Z_CostContact  Z_Revenue  Response  \n",
      "25%       0.0            3.0       11.0       0.0  \n",
      "50%       0.0            3.0       11.0       0.0  \n",
      "75%       0.0            3.0       11.0       0.0  \n",
      "\n",
      "[3 rows x 26 columns]\n"
     ]
    }
   ],
   "source": [
    "#El data frame ya fue caragado en el literal anterior y guardado en la variable marketing\n",
    "print(\"Resumen de las caracteristicas que son numéricas monstrando unicamente los cuartiles 25%, 50% y 75%\")\n",
    "print(marketing.describe().loc[['25%', '50%', '75%']])\n",
    "#Uso loc para seleccionar las filas cuyas etiquetas(indices) corresponden a los cuartiles 25%, 50% y 75%\n"
   ]
  },
  {
   "cell_type": "markdown",
   "id": "939b3bb3",
   "metadata": {},
   "source": [
    "\n",
    "c) Cambiar los nombres de las columnas **Year_Birth**, **Education** y **Marital_Status** del DataFrame a **Año_de_nacimiento**, **Educación** y **Estado_civil**, respectivamente. Devolver una copia del DataFrame, de modo que el DataFrame original se mantenga inalterado (5%)."
   ]
  },
  {
   "cell_type": "code",
   "execution_count": 32,
   "id": "688db6d8",
   "metadata": {},
   "outputs": [
    {
     "name": "stdout",
     "output_type": "stream",
     "text": [
      "DataFrame original\n",
      "     ID  Year_Birth   Education Marital_Status   Income  Kidhome  Teenhome  \\\n",
      "0  5524        1957  Graduation         Single  58138.0        0         0   \n",
      "1  2174        1954  Graduation         Single  46344.0        1         1   \n",
      "\n",
      "  Dt_Customer  Recency  MntWines  ...  NumWebVisitsMonth  AcceptedCmp3  \\\n",
      "0  04-09-2012       58       635  ...                  7             0   \n",
      "1  08-03-2014       38        11  ...                  5             0   \n",
      "\n",
      "   AcceptedCmp4  AcceptedCmp5  AcceptedCmp1  AcceptedCmp2  Complain  \\\n",
      "0             0             0             0             0         0   \n",
      "1             0             0             0             0         0   \n",
      "\n",
      "   Z_CostContact  Z_Revenue  Response  \n",
      "0              3         11         1  \n",
      "1              3         11         0  \n",
      "\n",
      "[2 rows x 29 columns]\n",
      "DataFrame copia con las columnas renombradas\n",
      "     ID  Año_de_nacimiento   Educación Estado_civil   Income  Kidhome  \\\n",
      "0  5524               1957  Graduation       Single  58138.0        0   \n",
      "1  2174               1954  Graduation       Single  46344.0        1   \n",
      "\n",
      "   Teenhome Dt_Customer  Recency  MntWines  ...  NumWebVisitsMonth  \\\n",
      "0         0  04-09-2012       58       635  ...                  7   \n",
      "1         1  08-03-2014       38        11  ...                  5   \n",
      "\n",
      "   AcceptedCmp3  AcceptedCmp4  AcceptedCmp5  AcceptedCmp1  AcceptedCmp2  \\\n",
      "0             0             0             0             0             0   \n",
      "1             0             0             0             0             0   \n",
      "\n",
      "   Complain  Z_CostContact  Z_Revenue  Response  \n",
      "0         0              3         11         1  \n",
      "1         0              3         11         0  \n",
      "\n",
      "[2 rows x 29 columns]\n"
     ]
    }
   ],
   "source": [
    "#Renombrando las columnas y guardando el resultado en un nuevo DataFrame tipo copia el cual tiene las columnas renombradas\n",
    "marketing_copia=marketing.rename(columns={\"Year_Birth\": \"Año_de_nacimiento\", \"Education\": \"Educación\", \"Marital_Status\": \"Estado_civil\"}, inplace=False)\n",
    "print(\"DataFrame original\")\n",
    "print(marketing.head(2))\n",
    "print(\"DataFrame copia con las columnas renombradas\")\n",
    "print(marketing_copia.head(2))# Muestra las primeras 2 filas del DataFrame con las columnas renombradas"
   ]
  },
  {
   "cell_type": "markdown",
   "id": "c26a26e2",
   "metadata": {},
   "source": [
    "\n",
    "d) Determinar cuantas columnas del DataFrame tienen valores perdidos (valores faltantes) (5%)."
   ]
  },
  {
   "cell_type": "code",
   "execution_count": null,
   "id": "f0b89dc7",
   "metadata": {},
   "outputs": [
    {
     "name": "stdout",
     "output_type": "stream",
     "text": [
      "Columnas con datos faltantes\n",
      "Index(['Income'], dtype='object')\n",
      "Cantiad de columnas con datos faltantes\n",
      "1\n"
     ]
    }
   ],
   "source": [
    "print(\"Columnas con datos faltantes\")\n",
    "Nan=marketing.isnull().any()\n",
    "columnas_Nan=marketing.columns[Nan]\n",
    "print(columnanas_Nan)\n",
    "print(\"Cantiad de columnas con datos faltantes\")\n",
    "\n",
    "print(len(columnas_Nan))\n"
   ]
  },
  {
   "cell_type": "markdown",
   "id": "b1afe288",
   "metadata": {},
   "source": [
    "\n",
    "e) Cambiar el tipo de datos de las columnas **MntWines**, **MntFruits**, **MntMeatProducts**, **MntFishProducts**, **MntSweetProducts** y **MntGoldProds** del DataFrame, realizar al cambio al tipo de dato **float64** (5%)."
   ]
  },
  {
   "cell_type": "markdown",
   "id": "2fa05ea4",
   "metadata": {},
   "source": [
    "\n",
    "f) Obtener con una sola orden, la media, desviación y suma de la columna **Income**. Indexar los elementos resultantes utilizando las etiquetas **Media**, **Desviación** y **Suma** respectivamente (5%)."
   ]
  },
  {
   "cell_type": "markdown",
   "id": "c74df5d7",
   "metadata": {},
   "source": [
    "\n",
    "g) Utilizando una sola orden, obtener la media y desviación estándar para todas las columnas “**Mnt**” en **mnt_colums** (5%)."
   ]
  },
  {
   "cell_type": "markdown",
   "id": "441e91d5",
   "metadata": {},
   "source": [
    "\n",
    "h) Mostrar los 5 clientes (**5 filas**) cuya suma de gastos (columnas en **mnt_colums**) es mayor que el resto de clientes (5%).\n"
   ]
  },
  {
   "cell_type": "markdown",
   "id": "477a0225",
   "metadata": {},
   "source": [
    "i) Calcular el porcentaje de dinero que gasta cada cliente (columnas en **mnt_colums**) con respecto a sus ingresos (5%).\n"
   ]
  },
  {
   "cell_type": "markdown",
   "id": "97ac3dcd",
   "metadata": {},
   "source": [
    "j) Calcular la media y desviación del **50%** de los clientes que tienen un mayor salario (5%)"
   ]
  }
 ],
 "metadata": {
  "kernelspec": {
   "display_name": "venv (3.13.7)",
   "language": "python",
   "name": "python3"
  },
  "language_info": {
   "codemirror_mode": {
    "name": "ipython",
    "version": 3
   },
   "file_extension": ".py",
   "mimetype": "text/x-python",
   "name": "python",
   "nbconvert_exporter": "python",
   "pygments_lexer": "ipython3",
   "version": "3.13.7"
  }
 },
 "nbformat": 4,
 "nbformat_minor": 5
}
