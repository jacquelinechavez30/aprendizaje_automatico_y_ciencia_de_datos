{
 "cells": [
  {
   "cell_type": "markdown",
   "id": "24771e30",
   "metadata": {},
   "source": [
    "#Pasos para crear y usar un entorno virtual en VS Code\n",
    "El proceso es sencillo y se integra muy bien con VS Code.\n",
    "\n",
    "1. Abre tu carpeta de proyecto\n",
    "Primero, abre la carpeta donde tienes tu archivo .ipynb o tus scripts de Python.\n",
    "cd \"ruta a tu carpeta de proyecto\"\n",
    "si ya estoy dentro en parte de la carpeta \n",
    "cd \"nombre de la subcarpeta\"ArithmeticError\n",
    "\n",
    "2. Crea el entorno virtual\n",
    "Abre el terminal integrado de VS Code (Ctrl + Shift + `) y ejecuta el siguiente comando:\n",
    "\n",
    "Comando:\n",
    "\n",
    "###python -m venv venv\n",
    "Esto creará una carpeta llamada venv dentro de tu proyecto.\n",
    "\n",
    "3. Activa el entorno virtual\n",
    "Una vez que el entorno está creado, necesitas activarlo para que VS Code sepa que debe usarlo.\n",
    "\n",
    "En Windows (Command Prompt): .\\venv\\Scripts\\activate\n",
    "\n",
    "En Windows (PowerShell): .\\venv\\Scripts\\Activate.ps1\n",
    "\n",
    "\n",
    "\n",
    "Cuando el entorno esté activo, verás el nombre del entorno, (venv), al inicio de tu línea de comandos.\n",
    "\n",
    "1. Instala las librerías\n",
    "Con el entorno virtual activo, ahora puedes instalar pandas y tus librerías de gráficos. Las instalaciones solo se aplicarán a este entorno.\n",
    "\n",
    "Bash\n",
    "\n",
    "pip install pandas matplotlib seaborn\n",
    "Puedes instalar cualquier otra librería que necesites, como Plotly o Matplotlib, de la misma forma.\n",
    "\n",
    "5. Selecciona el intérprete de Python en VS Code\n",
    "Ahora, en tu archivo Jupyter (.ipynb), VS Code debe detectar automáticamente el entorno virtual. Si no lo hace, haz clic en el kernel de Python en la esquina superior derecha del notebook y selecciona el intérprete que está dentro de la carpeta venv.\n",
    "\n",
    "Usar este método no solo te mantiene organizado, sino que también evita futuros dolores de cabeza. ¡Es la mejor forma de asegurar que tu proyecto sea reproducible y robusto! "
   ]
  }
 ],
 "metadata": {
  "kernelspec": {
   "display_name": "venv (3.13.7)",
   "language": "python",
   "name": "python3"
  },
  "language_info": {
   "name": "python",
   "version": "3.13.7"
  }
 },
 "nbformat": 4,
 "nbformat_minor": 5
}
