{
 "cells": [
  {
   "cell_type": "markdown",
   "id": "7efb6475",
   "metadata": {},
   "source": [
    "# Guia 7 pandas parte 1"
   ]
  },
  {
   "cell_type": "markdown",
   "id": "31ec9ec1",
   "metadata": {},
   "source": [
    "#Instalar Pandas\n",
    "\n",
    "Este comando instala la librería Pandas.\n",
    "\n",
    "### pip install pandas"
   ]
  },
  {
   "cell_type": "markdown",
   "id": "f53d06ad",
   "metadata": {},
   "source": [
    "## Importar pandas "
   ]
  },
  {
   "cell_type": "markdown",
   "id": "0f1f0ba1",
   "metadata": {},
   "source": [
    "El término pd es simplemente un alias o apodo para la librería Pandas. Cuando ves una línea de código como esta:"
   ]
  },
  {
   "cell_type": "code",
   "execution_count": null,
   "id": "54820a55",
   "metadata": {},
   "outputs": [],
   "source": [
    "import pandas as pd"
   ]
  },
  {
   "cell_type": "markdown",
   "id": "d6365591",
   "metadata": {},
   "source": [
    "Lo que sucede es lo siguiente:\n",
    "\n",
    "import pandas: Carga la librería de Pandas en el programa.\n",
    "\n",
    "as pd: Le dice a Python que, de ahora en adelante, puedes referirte a la librería pandas usando la abreviatura pd. \n",
    "\n",
    "Esto se hace por convención y para escribir un código más corto y limpio. En lugar de escribir pandas.Series() o pandas.DataFrame(), simplemente escribes pd.Series() o pd.DataFrame(). Por eso, en los ejemplos de la guía, todos los comandos que utilizan la librería comienzan con pd."
   ]
  },
  {
   "cell_type": "markdown",
   "id": "e0567528",
   "metadata": {},
   "source": [
    "###Ejercicios"
   ]
  },
  {
   "cell_type": "markdown",
   "id": "d3d46986",
   "metadata": {},
   "source": [
    "###Objeto Series\n",
    "Este código crea un objeto Series a partir de una lista de Python y lo imprime."
   ]
  },
  {
   "cell_type": "code",
   "execution_count": 1,
   "id": "e8715e19",
   "metadata": {},
   "outputs": [
    {
     "name": "stdout",
     "output_type": "stream",
     "text": [
      "0     2\n",
      "1     3\n",
      "2     5\n",
      "3     7\n",
      "4    11\n",
      "dtype: int64\n"
     ]
    }
   ],
   "source": [
    "# Importar la librería pandas\n",
    "import pandas as pd\n",
    "\n",
    "# Crear una lista de Python\n",
    "datos = [2, 3, 5, 7, 11]\n",
    "\n",
    "# Crear un objeto Series de pandas a partir de la lista\n",
    "serie = pd.Series(datos)\n",
    "\n",
    "# Imprimir el objeto Series\n",
    "print(serie)"
   ]
  },
  {
   "cell_type": "markdown",
   "id": "92220d38",
   "metadata": {},
   "source": [
    "###Método describe()\n",
    "Este ejemplo genera y muestra estadísticas descriptivas para un Series."
   ]
  },
  {
   "cell_type": "code",
   "execution_count": 2,
   "id": "39cac0af",
   "metadata": {},
   "outputs": [
    {
     "name": "stdout",
     "output_type": "stream",
     "text": [
      "count     5.000000\n",
      "mean      5.600000\n",
      "std       3.577709\n",
      "min       2.000000\n",
      "25%       3.000000\n",
      "50%       5.000000\n",
      "75%       7.000000\n",
      "max      11.000000\n",
      "dtype: float64\n"
     ]
    }
   ],
   "source": [
    "# Importar la librería pandas\n",
    "import pandas as pd\n",
    "\n",
    "# Crear una lista\n",
    "datos = [2, 3, 5, 7, 11]\n",
    "\n",
    "# Crear un objeto Series\n",
    "serie = pd.Series(datos)\n",
    "\n",
    "# Generar e imprimir estadísticas descriptivas del Series\n",
    "print(serie.describe())"
   ]
  },
  {
   "cell_type": "markdown",
   "id": "2f4325a1",
   "metadata": {},
   "source": [
    "###Conversión Series a Lista\n",
    "Este código convierte un objeto Series de nuevo en una lista y verifica los tipos de datos en cada paso"
   ]
  },
  {
   "cell_type": "code",
   "execution_count": 3,
   "id": "6e481deb",
   "metadata": {},
   "outputs": [
    {
     "name": "stdout",
     "output_type": "stream",
     "text": [
      "<class 'list'>\n",
      "<class 'pandas.core.series.Series'>\n",
      "<class 'list'>\n"
     ]
    }
   ],
   "source": [
    "# Importar la librería pandas\n",
    "import pandas as pd\n",
    "\n",
    "# Crear una lista de Python\n",
    "datos = [2, 3, 5, 7, 11]\n",
    "\n",
    "# Crear un objeto Series de pandas\n",
    "serie = pd.Series(datos)\n",
    "\n",
    "# Imprimir el tipo de dato de la lista original\n",
    "print(type(datos))\n",
    "\n",
    "# Imprimir el tipo de dato del objeto Series\n",
    "print(type(serie))\n",
    "\n",
    "# Convertir el Series a una lista y asignarla a una nueva variable\n",
    "lista = serie.tolist()\n",
    "\n",
    "# Imprimir el tipo de dato de la nueva lista convertida\n",
    "print(type(lista))"
   ]
  },
  {
   "cell_type": "markdown",
   "id": "42455775",
   "metadata": {},
   "source": [
    "###Operaciones aritméticas básicas con Series\n",
    "Este ejemplo realiza operaciones matemáticas elemento a elemento entre dos objetos Series."
   ]
  },
  {
   "cell_type": "code",
   "execution_count": 4,
   "id": "b7e8af17",
   "metadata": {},
   "outputs": [
    {
     "name": "stdout",
     "output_type": "stream",
     "text": [
      "0     7\n",
      "1     9\n",
      "2    11\n",
      "3    13\n",
      "4    15\n",
      "dtype: int64\n",
      "0   -5\n",
      "1   -5\n",
      "2   -5\n",
      "3   -5\n",
      "4   -5\n",
      "dtype: int64\n",
      "0     6\n",
      "1    14\n",
      "2    24\n",
      "3    36\n",
      "4    50\n",
      "dtype: int64\n",
      "0    0.166667\n",
      "1    0.285714\n",
      "2    0.375000\n",
      "3    0.444444\n",
      "4    0.500000\n",
      "dtype: float64\n"
     ]
    }
   ],
   "source": [
    "# Importar la librería pandas\n",
    "import pandas as pd\n",
    "\n",
    "# Crear el primer objeto Series\n",
    "serie1 = pd.Series([1, 2, 3, 4, 5])\n",
    "\n",
    "# Crear el segundo objeto Series\n",
    "serie2 = pd.Series([6, 7, 8, 9, 10])\n",
    "\n",
    "# Sumar los dos objetos Series (suma elemento a elemento)\n",
    "suma = serie1 + serie2\n",
    "\n",
    "# Restar los dos objetos Series (resta elemento a elemento)\n",
    "resta = serie1 - serie2\n",
    "\n",
    "# Multiplicar los dos objetos Series (multiplicación elemento a elemento)\n",
    "multiplicacion = serie1 * serie2\n",
    "\n",
    "# Dividir los dos objetos Series (división elemento a elemento)\n",
    "division = serie1 / serie2\n",
    "\n",
    "# Imprimir los resultados de cada operación\n",
    "print(suma)\n",
    "print(resta)\n",
    "print(multiplicacion)\n",
    "print(division)"
   ]
  },
  {
   "cell_type": "markdown",
   "id": "48a100c9",
   "metadata": {},
   "source": [
    "###Conversión de Diccionario Python a Series\n",
    "Este código crea un Series a partir de un diccionario, usando las claves como índice."
   ]
  },
  {
   "cell_type": "code",
   "execution_count": 5,
   "id": "c66b669f",
   "metadata": {},
   "outputs": [
    {
     "name": "stdout",
     "output_type": "stream",
     "text": [
      "a    10\n",
      "b    20\n",
      "c    30\n",
      "d    40\n",
      "dtype: int64\n"
     ]
    }
   ],
   "source": [
    "# Importar la librería pandas\n",
    "import pandas as pd\n",
    "\n",
    "# Crear un diccionario de Python\n",
    "# Las claves se convertirán en el índice y los valores en los datos\n",
    "datos = {'a': 10, 'b': 20, 'c': 30, 'd': 40}\n",
    "\n",
    "# Crear un objeto Series a partir del diccionario\n",
    "serie = pd.Series(datos)\n",
    "\n",
    "# Imprimir el objeto Series\n",
    "print(serie)"
   ]
  },
  {
   "cell_type": "markdown",
   "id": "5d16f88b",
   "metadata": {},
   "source": [
    "###Conversión Arreglo Numpy a Series\n",
    "Este ejemplo convierte un arreglo de NumPy a un Series de Pandas."
   ]
  },
  {
   "cell_type": "code",
   "execution_count": 6,
   "id": "967e00eb",
   "metadata": {},
   "outputs": [
    {
     "name": "stdout",
     "output_type": "stream",
     "text": [
      "[ 2  3  5  7 11]\n",
      "0     2\n",
      "1     3\n",
      "2     5\n",
      "3     7\n",
      "4    11\n",
      "dtype: int64\n"
     ]
    }
   ],
   "source": [
    "# Importar la librería numpy\n",
    "import numpy as np\n",
    "\n",
    "# Importar la librería pandas\n",
    "import pandas as pd\n",
    "\n",
    "# Crear un arreglo de NumPy\n",
    "arreglo = np.array([2, 3, 5, 7, 11])\n",
    "\n",
    "# Imprimir el arreglo original de NumPy\n",
    "print(arreglo)\n",
    "\n",
    "# Crear un objeto Series a partir del arreglo de NumPy\n",
    "serie = pd.Series(arreglo)\n",
    "\n",
    "# Imprimir el objeto Series resultante\n",
    "print(serie)"
   ]
  },
  {
   "cell_type": "markdown",
   "id": "e53b8be5",
   "metadata": {},
   "source": [
    "###Cambio de tipo de datos de un objeto Series\n",
    "Este código convierte un Series de tipo cadena a tipo numérico, manejando errores de conversión."
   ]
  },
  {
   "cell_type": "code",
   "execution_count": null,
   "id": "1b818586",
   "metadata": {},
   "outputs": [
    {
     "name": "stdout",
     "output_type": "stream",
     "text": [
      "0       150\n",
      "1       400\n",
      "2    ACD104\n",
      "3     120.5\n",
      "4    250.15\n",
      "dtype: object\n",
      "0    150.00\n",
      "1    400.00\n",
      "2       NaN\n",
      "3    120.50\n",
      "4    250.15\n",
      "dtype: float64\n"
     ]
    }
   ],
   "source": [
    "# Importar la librería pandas\n",
    "import pandas as pd\n",
    "\n",
    "# Crear un Series con valores de cadena\n",
    "datos = pd.Series(['150', '400', 'ACD104', '120.5', '250.15'])\n",
    "\n",
    "# Imprimir el Series original (con tipo de dato 'object')\n",
    "print(datos)\n",
    "\n",
    "# Convertir los valores a numéricos, reemplazando los errores con NaN\n",
    "#datos = pd.to_numeric(datos, errors='coerce'): La función pd.to_numeric intenta convertir las cadenas a números. El argumento errors='coerce' reemplaza cualquier cadena que no pueda convertirse ('ACD104') por el valor especial NaN (Not a Number).\n",
    "datos = pd.to_numeric(datos, errors='coerce')\n",
    "\n",
    "# Imprimir el Series convertido (con tipo de dato float64)\n",
    "print(datos)"
   ]
  },
  {
   "cell_type": "markdown",
   "id": "a4dcce7b",
   "metadata": {},
   "source": [
    "###Ejemplo de cambio de datos entero a float\n",
    "Este ejemplo demuestra una conversión explícita a tipo float."
   ]
  },
  {
   "cell_type": "code",
   "execution_count": null,
   "id": "c7aea709",
   "metadata": {},
   "outputs": [
    {
     "name": "stdout",
     "output_type": "stream",
     "text": [
      "0       150\n",
      "1       400\n",
      "2    ACD104\n",
      "3       120\n",
      "4       250\n",
      "dtype: object\n",
      "0    150.0\n",
      "1    400.0\n",
      "2      NaN\n",
      "3    120.0\n",
      "4    250.0\n",
      "dtype: float64\n"
     ]
    }
   ],
   "source": [
    "# Importar la librería pandas\n",
    "import pandas as pd\n",
    "\n",
    "# Crear un Series con valores enteros y de cadena\n",
    "datos = pd.Series([150, '400', 'ACD104', 120, '250'])\n",
    "\n",
    "# Imprimir el Series original\n",
    "print(datos)\n",
    "\n",
    "# Convertir a numérico (con errores a NaN) y luego a tipo float\n",
    "#.astype('float'): Luego, se encadena el método astype() para asegurarse de que todos los valores, incluidos los NaN, sean de tipo flotante. #Esto es útil porque la conversión inicial a numérico puede resultar en un tipo mixto si hay NaN presentes.\n",
    "datos = pd.to_numeric(datos, errors='coerce').astype('float')\n",
    "\n",
    "# Imprimir el Series con el tipo de dato final 'float64'\n",
    "print(datos)"
   ]
  },
  {
   "cell_type": "markdown",
   "id": "25510930",
   "metadata": {},
   "source": [
    "##Objeto DataFrame\n"
   ]
  },
  {
   "cell_type": "markdown",
   "id": "f4ba33b9",
   "metadata": {},
   "source": [
    "###Creación de un DataFrame a partir de un diccionario\n",
    "Este ejemplo crea un DataFrame a partir de un diccionario de Python, donde las claves se convierten en columnas."
   ]
  },
  {
   "cell_type": "markdown",
   "id": "8ff19766",
   "metadata": {},
   "source": [
    "datos = {'A': [1, 2, 3], ...}: El diccionario define las columnas ('A', 'B', 'C') y sus datos.\n",
    "\n",
    "df = pd.DataFrame(datos): Crea el DataFrame a partir del diccionario."
   ]
  },
  {
   "cell_type": "code",
   "execution_count": 9,
   "id": "edbe154c",
   "metadata": {},
   "outputs": [
    {
     "name": "stdout",
     "output_type": "stream",
     "text": [
      "   A  B  C\n",
      "0  1  4  7\n",
      "1  2  5  8\n",
      "2  3  6  9\n",
      "<class 'pandas.core.frame.DataFrame'>\n"
     ]
    }
   ],
   "source": [
    "import pandas as pd\n",
    "datos = {'A': [1, 2, 3], 'B': [4, 5, 6], 'C': [7, 8, 9]}\n",
    "df = pd.DataFrame(datos)\n",
    "print(df)\n",
    "print(type(df))"
   ]
  },
  {
   "cell_type": "markdown",
   "id": "e3d9a553",
   "metadata": {},
   "source": [
    "###Conversión de tipo de datos con DataFrame\n",
    "Este código muestra cómo cambiar el tipo de dato de columnas específicas en un DataFrame.\n",
    "\n",
    "df['A'] = df['A'].astype('int64'): Selecciona la columna 'A' y usa astype() para convertir sus valores al tipo entero."
   ]
  },
  {
   "cell_type": "markdown",
   "id": "457304af",
   "metadata": {},
   "source": [
    "Ejemplo1"
   ]
  },
  {
   "cell_type": "code",
   "execution_count": null,
   "id": "be2861b2",
   "metadata": {},
   "outputs": [],
   "source": [
    "import pandas as pd\n",
    "datos = {'A': [1, '2', 3], 'B': [4, 5, 6], 'C': [7, '8', 9]}\n",
    "df = pd.DataFrame(datos)\n",
    "print(df)\n",
    "print(df.dtypes)\n",
    "df['A'] = df['A'].astype('int64')\n",
    "df['B'] = df['B'].astype('float64')\n",
    "df['C'] = df['C'].astype('float64')\n",
    "print(df)\n",
    "print(df.dtypes)"
   ]
  },
  {
   "cell_type": "markdown",
   "id": "a14fb93e",
   "metadata": {},
   "source": [
    "Ejemplo2"
   ]
  },
  {
   "cell_type": "code",
   "execution_count": null,
   "id": "cfd38fb5",
   "metadata": {},
   "outputs": [],
   "source": [
    "import numpy as np\n",
    "import pandas as pd\n",
    "\n",
    "datos1 = {'A': [1, 2, 3, 4], 'B': [9, 8, 7, 6], 'C': [2, 3, 5, 7]}\n",
    "print(\"Conversión de tipo de datos con DataFrame\")\n",
    "print(type(datos1))\n",
    "df1 = pd.DataFrame(datos1)\n",
    "print(df1)\n",
    "print(df1.dtypes)\n",
    "df2 = pd.DataFrame(data=datos1, dtype=np.int8)\n",
    "print(df2)\n",
    "print(df2.dtypes)\n",
    "\n",
    "df3 = pd.DataFrame(data=datos1, dtype=np.float64)\n",
    "print (df3)\n",
    "print(df3.dtypes)"
   ]
  },
  {
   "cell_type": "markdown",
   "id": "ac13ed20",
   "metadata": {},
   "source": [
    "###Construcción de un DataFrame a partir de Series\n",
    "Este ejemplo construye un DataFrame combinando varios objetos Series.\n",
    "\n",
    "s1 = pd.Series(...), s2 = pd.Series(...): Se crean dos objetos Series.\n",
    "\n",
    "df = pd.DataFrame({'col1': s1, 'col2': s2}): Un diccionario se usa para asignar cada Series a una columna con un nombre específico."
   ]
  },
  {
   "cell_type": "code",
   "execution_count": 11,
   "id": "e4fda27d",
   "metadata": {},
   "outputs": [
    {
     "name": "stdout",
     "output_type": "stream",
     "text": [
      "   col1  col2\n",
      "0     1     4\n",
      "1     2     5\n",
      "2     3     6\n"
     ]
    }
   ],
   "source": [
    "import pandas as pd\n",
    "s1 = pd.Series([1, 2, 3])\n",
    "s2 = pd.Series([4, 5, 6])\n",
    "df = pd.DataFrame({'col1': s1, 'col2': s2})\n",
    "print(df)"
   ]
  },
  {
   "cell_type": "markdown",
   "id": "19ed48c2",
   "metadata": {},
   "source": [
    "Ejemplo 2\n",
    "df = pd.DataFrame(data=datos, index=[0, 1, 2, 3]): Se crea un DataFrame de pandas a partir del diccionario datos.\n",
    "\n",
    "data=datos: Se le dice a pandas que use el diccionario datos como los datos de origen. Las claves del diccionario ('columnal' y 'columna2') se convierten en los nombres de las columnas.\n",
    "\n",
    "index=[0, 1, 2, 3]: Se especifica el índice del DataFrame. Es un arreglo de etiquetas para las filas."
   ]
  },
  {
   "cell_type": "code",
   "execution_count": null,
   "id": "21cb3eb4",
   "metadata": {},
   "outputs": [],
   "source": [
    "\n",
    "import numpy as np\n",
    "\n",
    "import pandas as pd\n",
    "\n",
    "datos = {'columnal': [0, 1, 2, 3], 'columna2': pd.Series( [2, 3], index=[2, 3])}\n",
    "\n",
    "df = pd.DataFrame (data=datos, index=[0, 1, 2, 3])\n",
    "\n",
    "print(\"Construcción de un DataFrame a partir de Series\")\n",
    "\n",
    "print(df)"
   ]
  },
  {
   "cell_type": "markdown",
   "id": "35019d60",
   "metadata": {},
   "source": [
    "Analisis de resultado \n",
    "\n",
    "columna1: Se creó a partir de la lista [0, 1, 2, 3] y se alinea perfectamente con el índice del DataFrame, de 0 a 3.\n",
    "\n",
    "columna2: Se creó a partir de la Serie. Pandas alinea los datos de la Serie con el índice del DataFrame. Como la Serie original solo tenía valores para los índices 2 y 3, las filas 0 y 1 de la columna2 no tienen un valor correspondiente. Pandas inserta NaN (Not a Number), que es la forma de pandas de representar los datos faltantes. Los valores de la Serie (2 y 3) se colocan correctamente en las filas con índices 2 y 3"
   ]
  },
  {
   "cell_type": "markdown",
   "id": "ca5e95eb",
   "metadata": {},
   "source": [
    "###Obtener un valor de un DataFrame a partir de su fila y columna\n",
    "Obtener el valor df[4, 'B'] del DataFrame df.\n"
   ]
  },
  {
   "cell_type": "markdown",
   "id": "0de040fc",
   "metadata": {},
   "source": [
    "cómo acceder y modificar un único elemento usando la propiedad .iat. Este es un método muy eficiente para trabajar con datos cuando se conoce la posición numérica exacta de un elemento."
   ]
  },
  {
   "cell_type": "markdown",
   "id": "fd712f64",
   "metadata": {},
   "source": [
    "Acceso a un Elemento con .iat:\n",
    "\n",
    "print(\"df.iat[1, 2]: \", df.iat[1, 2]): Esta línea usa .iat para acceder a un valor por su posición entera.\n",
    "\n",
    "df.iat[1, 2] se refiere al elemento en la fila 1 y la columna 2 (los índices en Python comienzan en 0).\n",
    "\n",
    "El valor en esa posición es 1, por lo que el resultado de esta línea es df.iat[1, 2]: 1."
   ]
  },
  {
   "cell_type": "code",
   "execution_count": 21,
   "id": "41e9ba34",
   "metadata": {},
   "outputs": [
    {
     "name": "stdout",
     "output_type": "stream",
     "text": [
      "Obtener un valor de un DataFrame a partir de su fila y columna\n",
      "    A   B   C\n",
      "0   0   2   3\n",
      "1   0   4   1\n",
      "2  10  20  30\n",
      "df.iat[1, 2]:  1\n"
     ]
    }
   ],
   "source": [
    "import pandas as pd\n",
    "\n",
    "df = pd.DataFrame( [[0, 2, 3], [0, 4, 1], [10, 20, 30]],columns=['A', 'B', 'C'])\n",
    "print(\"Obtener un valor de un DataFrame a partir de su fila y columna\")\n",
    "print(df)\n",
    "print(\"df.iat[1, 2]: \",df.iat[1, 2])"
   ]
  },
  {
   "cell_type": "markdown",
   "id": "07a7b181",
   "metadata": {},
   "source": [
    "Modificación de un Elemento con .iat:\n",
    "\n",
    "df.iat[1, 2] = 10: Esta línea cambia el valor en la posición de la fila 1, columna 2. El valor de 1 se reemplaza por 10.\n",
    "\n",
    "print(\"df.iat[1, 2]: \", df.iat[1, 2]): Vuelve a imprimir el valor en la misma posición, mostrando ahora el nuevo valor modificado. El resultado es df.iat[1, 2]: 10."
   ]
  },
  {
   "cell_type": "code",
   "execution_count": 22,
   "id": "18e1dc15",
   "metadata": {},
   "outputs": [
    {
     "name": "stdout",
     "output_type": "stream",
     "text": [
      "    A   B   C\n",
      "0   0   2   3\n",
      "1   0   4   1\n",
      "2  10  20  30\n",
      "df.iat[1, 2]:  1\n",
      "df.iat[1, 2]:  10\n"
     ]
    }
   ],
   "source": [
    "import pandas as pd\n",
    "df = pd.DataFrame( [[0, 2, 3], [0, 4, 1], [10, 20, 30]],columns=['A', 'B', 'C'])\n",
    "print(df)\n",
    "print(\"df.iat[1, 2]: \",df.iat[1, 2])\n",
    "df.iat[1, 2] = 10\n",
    "print(\"df.iat[1, 2]: \",df.iat[1, 2])"
   ]
  },
  {
   "cell_type": "markdown",
   "id": "b925f1ed",
   "metadata": {},
   "source": [
    "¿Por qué usar .iat?\n",
    ".iat (del inglés \"integer at\") es un método muy rápido para acceder y modificar una sola celda en un DataFrame, ya que se basa en la posición numérica exacta y no en etiquetas de fila o columna. Es la opción preferida cuando se necesita un rendimiento óptimo para operaciones de un solo elemento."
   ]
  },
  {
   "cell_type": "markdown",
   "id": "1d51bf5c",
   "metadata": {},
   "source": [
    "Acceso a un Valor con .at:\n",
    "\n",
    "print(\"df.at[4, 'B']: \", df.at[4, 'B']): Esta es la parte principal del ejemplo.\n",
    "\n",
    ".at (de \"at\" en inglés, que significa \"en\") es un método de pandas que se utiliza para acceder a un valor único de manera muy eficiente, usando las etiquetas de fila y columna.\n",
    "\n",
    "df.at[4, 'B'] busca el valor en la fila con la etiqueta 4 y en la columna con la etiqueta 'B'.\n",
    "\n",
    "Como se puede ver en el DataFrame, la celda en la intersección de la fila 4 y la columna 'B' contiene el valor 2."
   ]
  },
  {
   "cell_type": "code",
   "execution_count": null,
   "id": "57309eeb",
   "metadata": {},
   "outputs": [],
   "source": [
    "\n",
    "import pandas as pd\n",
    "df = pd.DataFrame( [[0, 2, 3], [0, 4, 1], [10, 20, 30]],index=[4, 5, 6], columns=['A', 'B', 'C'])\n",
    "print(df)\n",
    "print(\"df[4,'B']: \",df.at[4, 'B'])"
   ]
  },
  {
   "cell_type": "markdown",
   "id": "d78f4de3",
   "metadata": {},
   "source": [
    "¿Por qué usar .at?\n",
    ".at es la forma más rápida y recomendada de acceder a un solo elemento en un DataFrame cuando conoces sus etiquetas de fila y columna. Si en cambio conoces las posiciones numéricas (índices enteros), se debe usar el método .iat para un rendimiento óptimo."
   ]
  },
  {
   "cell_type": "markdown",
   "id": "a82707dd",
   "metadata": {},
   "source": [
    "###Obtener información de indices y columnas de un DataFrame\n",
    "\n",
    "Ejemplo de uso de las propiedades .index y .columns para obtener información de indices y columnas de un DataFrame."
   ]
  },
  {
   "cell_type": "markdown",
   "id": "190c3b5e",
   "metadata": {},
   "source": [
    "Acceso a Atributos del DataFrame:\n",
    "\n",
    "print(\"Columnas de df: \", df.columns): Accede al atributo .columns del DataFrame. Este atributo devuelve un objeto que contiene los nombres de las columnas, en este caso, ['A', 'B']. El resultado impreso es:\n",
    "\n",
    "Columnas de df:  Index(['A', 'B'], dtype='object')\n",
    "print(\"Indices de df: \", df.index): Accede al atributo .index. Este atributo devuelve un objeto que contiene los índices de las filas del DataFrame, en este caso, [0, 1]. El resultado impreso es:\n",
    "\n",
    "Indices de df:  RangeIndex(start=0, stop=2, step=1)\n",
    "RangeIndex es el tipo de índice que pandas usa por defecto. Indica que las etiquetas van desde 0 hasta 2 (sin incluir el 2), con pasos de 1."
   ]
  },
  {
   "cell_type": "code",
   "execution_count": 23,
   "id": "68fa9686",
   "metadata": {},
   "outputs": [
    {
     "name": "stdout",
     "output_type": "stream",
     "text": [
      "   A  B\n",
      "0  1  3\n",
      "1  2  4\n",
      "Columnas de df:  Index(['A', 'B'], dtype='object')\n",
      "Indices de df:  RangeIndex(start=0, stop=2, step=1)\n"
     ]
    }
   ],
   "source": [
    "import pandas as pd\n",
    "\n",
    "df = pd.DataFrame({'A': [1, 2], 'B': [3, 4]})\n",
    "\n",
    "print(df)\n",
    "\n",
    "print(\"Columnas de df: \",df.columns)\n",
    "\n",
    "print(\"Indices de df: \",df.index)"
   ]
  },
  {
   "cell_type": "markdown",
   "id": "97de09c3",
   "metadata": {},
   "source": [
    "###Obtener información de indices y columnas de un DataFrame\n",
    "Ejemplo de uso de la propiedades axes para obtener información de indices y columnas de un DataFrame."
   ]
  },
  {
   "cell_type": "markdown",
   "id": "77aae17b",
   "metadata": {},
   "source": [
    "El atributo .axes:\n",
    "Es útil para obtener rápidamente información sobre la estructura de un DataFrame, permitiéndote ver qué etiquetas se utilizan para sus filas y columnas. Es una forma conveniente de inspeccionar la forma y los nombres de los ejes de tus datos.\n",
    "\n",
    "print(df.axes): Esta línea accede al atributo .axes del DataFrame. Este atributo es una lista que contiene las etiquetas de los dos ejes del DataFrame:\n",
    "\n",
    "El índice de las filas (eje 0).\n",
    "\n",
    "Las etiquetas de las columnas (eje 1).\n",
    "\n",
    "La salida de esta línea será una lista que contiene el índice y las columnas del DataFrame:"
   ]
  },
  {
   "cell_type": "code",
   "execution_count": 24,
   "id": "69aef840",
   "metadata": {},
   "outputs": [
    {
     "name": "stdout",
     "output_type": "stream",
     "text": [
      "   columnal  columna2\n",
      "0        10        30\n",
      "1        20        40\n",
      "2        50        70\n",
      "[RangeIndex(start=0, stop=3, step=1), Index(['columnal', 'columna2'], dtype='object')]\n"
     ]
    }
   ],
   "source": [
    "import pandas as pd\n",
    "\n",
    "df= pd.DataFrame({'columnal': [10, 20, 50], 'columna2': [30, 40, 70]})\n",
    "print(df)\n",
    "print(df.axes)\n",
    "#!/usr/bin/env python3"
   ]
  }
 ],
 "metadata": {
  "kernelspec": {
   "display_name": "Python 3",
   "language": "python",
   "name": "python3"
  },
  "language_info": {
   "codemirror_mode": {
    "name": "ipython",
    "version": 3
   },
   "file_extension": ".py",
   "mimetype": "text/x-python",
   "name": "python",
   "nbconvert_exporter": "python",
   "pygments_lexer": "ipython3",
   "version": "3.13.7"
  }
 },
 "nbformat": 4,
 "nbformat_minor": 5
}
